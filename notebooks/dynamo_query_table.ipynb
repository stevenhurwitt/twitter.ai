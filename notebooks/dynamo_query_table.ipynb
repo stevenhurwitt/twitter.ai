{
 "cells": [
  {
   "cell_type": "code",
   "execution_count": 1,
   "metadata": {},
   "outputs": [
    {
     "name": "stdout",
     "output_type": "stream",
     "text": [
      "imported modules.\n"
     ]
    }
   ],
   "source": [
    "import os\n",
    "import json\n",
    "import time\n",
    "import boto3\n",
    "import tweepy\n",
    "import pprint\n",
    "import datetime\n",
    "import numpy as np\n",
    "import pandas as pd\n",
    "import botocore.session\n",
    "from boto3.dynamodb.conditions import Key, Attr\n",
    "\n",
    "with open(\"../creds.json\", \"r\") as f:\n",
    "    creds = json.load(f)\n",
    "    f.close()\n",
    "\n",
    "client = boto3.client('dynamodb',\n",
    "  endpoint_url = \"http://xanaxprincess.asuscomm.com:8001\",\n",
    "  aws_access_key_id=creds[\"aws-access-key\"],\n",
    "  aws_secret_access_key=creds[\"aws-secret-access-key\"],\n",
    "  region_name='us-east-2')\n",
    "\n",
    "dynamodb = boto3.resource('dynamodb', \\\n",
    "            endpoint_url = \"http://xanaxprincess.asuscomm.com:8001\", \\\n",
    "            region_name='us-east-2')\n",
    "    \n",
    "print(\"imported modules.\")"
   ]
  },
  {
   "cell_type": "code",
   "execution_count": 2,
   "metadata": {},
   "outputs": [
    {
     "name": "stdout",
     "output_type": "stream",
     "text": [
      "query: \n",
      "select * from tweets\n",
      "where\n",
      "group by\n",
      "order by\n",
      "\n"
     ]
    }
   ],
   "source": [
    "query = \"\"\"\n",
    "select * from tweets\n",
    "where\n",
    "group by\n",
    "order by\n",
    "\"\"\"\n",
    "\n",
    "print(\"query: {}\".format(query))"
   ]
  },
  {
   "cell_type": "code",
   "execution_count": 3,
   "metadata": {},
   "outputs": [
    {
     "name": "stdout",
     "output_type": "stream",
     "text": [
      "<botocore.client.DynamoDB object at 0xffff5f207700>\n"
     ]
    }
   ],
   "source": [
    "print(client)"
   ]
  },
  {
   "cell_type": "code",
   "execution_count": 4,
   "metadata": {},
   "outputs": [
    {
     "name": "stdout",
     "output_type": "stream",
     "text": [
      "dynamodb.ServiceResource()\n"
     ]
    }
   ],
   "source": [
    "print(dynamodb)"
   ]
  },
  {
   "cell_type": "code",
   "execution_count": null,
   "metadata": {},
   "outputs": [],
   "source": []
  }
 ],
 "metadata": {
  "kernelspec": {
   "display_name": "twitter.ai",
   "language": "python",
   "name": "python3"
  },
  "language_info": {
   "codemirror_mode": {
    "name": "ipython",
    "version": 3
   },
   "file_extension": ".py",
   "mimetype": "text/x-python",
   "name": "python",
   "nbconvert_exporter": "python",
   "pygments_lexer": "ipython3",
   "version": "3.8.10"
  },
  "orig_nbformat": 4,
  "vscode": {
   "interpreter": {
    "hash": "9fdfdcce63ceaadbeb65c1751df9522a6807feac2991dadc56a1ff5ec22d266a"
   }
  }
 },
 "nbformat": 4,
 "nbformat_minor": 2
}

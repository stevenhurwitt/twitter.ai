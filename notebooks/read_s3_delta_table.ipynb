{
 "cells": [
  {
   "attachments": {},
   "cell_type": "markdown",
   "metadata": {},
   "source": [
    "# read s3 delta table on aws\n",
    "\n",
    "need access key & secret access key for IAM user w/ necessary credentials set up.\n",
    "- export AWS_ACCESS_KEY_ID=1234\n",
    "- export AWS_SECRET_ACCESS_KEY=abc123"
   ]
  },
  {
   "cell_type": "code",
   "execution_count": 5,
   "metadata": {},
   "outputs": [
    {
     "name": "stdout",
     "output_type": "stream",
     "text": [
      "imported modules.\n"
     ]
    }
   ],
   "source": [
    "import os\n",
    "import ast\n",
    "import tweepy\n",
    "import logging\n",
    "import pprint\n",
    "import json\n",
    "import time\n",
    "import datetime as dt\n",
    "import pandas as pd\n",
    "import numpy as np\n",
    "\n",
    "import boto3\n",
    "import pprint\n",
    "import botocore.session\n",
    "from botocore.exceptions import ClientError\n",
    "from boto3.dynamodb.conditions import Key, Attr\n",
    "\n",
    "pp = pprint.PrettyPrinter(indent = 1)\n",
    "print(\"imported modules.\")"
   ]
  },
  {
   "cell_type": "code",
   "execution_count": 6,
   "metadata": {},
   "outputs": [
    {
     "name": "stdout",
     "output_type": "stream",
     "text": [
      "dict_keys(['twitter-api-key', 'twitter-secret-key', 'twitter-bearer', 'twitter-access-token', 'twitter-secret-access', 'host', 'port', 'arn', 'aws-access-key', 'aws-secret-access-key'])\n"
     ]
    }
   ],
   "source": [
    "with open(\"./../creds.json\", \"r\") as g:\n",
    "    creds = json.load(g)\n",
    "    g.close()\n",
    "\n",
    "pp.pprint(creds.keys())"
   ]
  },
  {
   "cell_type": "code",
   "execution_count": 7,
   "metadata": {},
   "outputs": [
    {
     "name": "stdout",
     "output_type": "stream",
     "text": [
      "connected to boto3 clients.\n"
     ]
    }
   ],
   "source": [
    "s3 = boto3.client(\"s3\")\n",
    "athena = boto3.client(\"athena\")\n",
    "glue = boto3.client(\"glue\")\n",
    "my_lambda = boto3.client(\"lambda\")\n",
    "dynamo = boto3.client(\"dynamodb\")\n",
    "print(\"connected to boto3 clients.\")"
   ]
  },
  {
   "cell_type": "code",
   "execution_count": null,
   "metadata": {},
   "outputs": [],
   "source": []
  }
 ],
 "metadata": {
  "kernelspec": {
   "display_name": "twitter",
   "language": "python",
   "name": "python3"
  },
  "language_info": {
   "codemirror_mode": {
    "name": "ipython",
    "version": 3
   },
   "file_extension": ".py",
   "mimetype": "text/x-python",
   "name": "python",
   "nbconvert_exporter": "python",
   "pygments_lexer": "ipython3",
   "version": "3.9.12"
  },
  "orig_nbformat": 4,
  "vscode": {
   "interpreter": {
    "hash": "23fa0c2dec9d3713b2ec72feef367e87f9ae0122dea8f00c1b4bed9356add9a2"
   }
  }
 },
 "nbformat": 4,
 "nbformat_minor": 2
}

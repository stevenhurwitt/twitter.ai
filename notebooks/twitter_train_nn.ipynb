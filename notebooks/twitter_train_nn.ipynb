{
 "cells": [
  {
   "cell_type": "markdown",
   "metadata": {},
   "source": [
    "## twitter_train_nn"
   ]
  },
  {
   "cell_type": "code",
   "execution_count": 33,
   "metadata": {},
   "outputs": [
    {
     "name": "stdout",
     "output_type": "stream",
     "text": [
      "using tf with dev: [PhysicalDevice(name='/physical_device:GPU:0', device_type='GPU')].\n",
      "imported modules successfully.\n"
     ]
    }
   ],
   "source": [
    "import os\n",
    "import logging\n",
    "import logging.handlers\n",
    "import pprint\n",
    "import json\n",
    "import keras\n",
    "import datetime\n",
    "import pandas as pd \n",
    "import numpy as np \n",
    "import google.auth\n",
    "import tensorflow as tf\n",
    "from google.oauth2 import service_account\n",
    "from google.cloud import bigquery\n",
    "from google.cloud import bigquery_storage\n",
    "from twitter_bq_upload import bq_read_table\n",
    "\n",
    "pp = pprint.PrettyPrinter(indent = 1)\n",
    "\n",
    "base = '/media/steven/big_boi/twitter.ai'\n",
    "data_dir = os.path.join(base, 'data')\n",
    "log_dir = os.path.join(base, 'logs')\n",
    "\n",
    "os.chdir(base)\n",
    "\n",
    "#init bq client\n",
    "creds_fname = '/media/steven/big_boi/creds_google.json'\n",
    "client = bigquery.Client.from_service_account_json(creds_fname)\n",
    "bqstorageclient = bigquery_storage.BigQueryStorageClient.from_service_account_json(creds_fname)\n",
    "logging.info('initialized bigquery client.')\n",
    "\n",
    "tf_dev = 'using tf with dev: {}.'.format(tf.config.list_physical_devices('GPU'))\n",
    "logging.info(tf_dev)\n",
    "print(tf_dev)\n",
    "print('imported modules successfully.')"
   ]
  },
  {
   "cell_type": "markdown",
   "metadata": {},
   "source": [
    "### read data from bigquery table"
   ]
  },
  {
   "cell_type": "code",
   "execution_count": 30,
   "metadata": {},
   "outputs": [],
   "source": [
    "data = bq_read_table()\n",
    "tweets = list(data.text)\n",
    "np.random.shuffle(tweets)"
   ]
  },
  {
   "cell_type": "code",
   "execution_count": null,
   "metadata": {},
   "outputs": [],
   "source": []
  },
  {
   "cell_type": "code",
   "execution_count": null,
   "metadata": {},
   "outputs": [],
   "source": []
  }
 ],
 "metadata": {
  "kernelspec": {
   "display_name": "Python 3",
   "language": "python",
   "name": "python3"
  },
  "language_info": {
   "codemirror_mode": {
    "name": "ipython",
    "version": 3
   },
   "file_extension": ".py",
   "mimetype": "text/x-python",
   "name": "python",
   "nbconvert_exporter": "python",
   "pygments_lexer": "ipython3",
   "version": "3.7.7"
  }
 },
 "nbformat": 4,
 "nbformat_minor": 4
}

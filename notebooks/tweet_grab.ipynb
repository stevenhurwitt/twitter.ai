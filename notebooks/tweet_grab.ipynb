{
 "cells": [
  {
   "cell_type": "markdown",
   "metadata": {},
   "source": [
    "# tweet grab"
   ]
  },
  {
   "cell_type": "code",
   "execution_count": 3,
   "metadata": {},
   "outputs": [
    {
     "name": "stdout",
     "output_type": "stream",
     "text": [
      "imported modules successfully.\n"
     ]
    }
   ],
   "source": [
    "import os\n",
    "import tweepy\n",
    "import logging\n",
    "import pprint\n",
    "import json\n",
    "import time\n",
    "import boto3\n",
    "import datetime as dt\n",
    "import pandas as pd\n",
    "import numpy as np\n",
    "import botocore.session\n",
    "from botocore.exceptions import ClientError\n",
    "from boto3.dynamodb.conditions import Key, Attr\n",
    "print('imported modules successfully.')"
   ]
  },
  {
   "attachments": {},
   "cell_type": "markdown",
   "metadata": {},
   "source": [
    "### set api creds"
   ]
  },
  {
   "cell_type": "code",
   "execution_count": 4,
   "metadata": {},
   "outputs": [
    {
     "name": "stdout",
     "output_type": "stream",
     "text": [
      "created dynamo client.\n"
     ]
    }
   ],
   "source": [
    "base = os.getcwd()\n",
    "data_dir = os.path.join(base, 'data')\n",
    "log_dir = os.path.join(base, 'logs')\n",
    "pp = pprint.PrettyPrinter(indent = 1)\n",
    "\n",
    "os.chdir(base)\n",
    "\n",
    "with open('./../creds.json', 'r') as f:\n",
    "    tweepy_creds = json.load(f)\n",
    "f.close()\n",
    "    \n",
    "auth = tweepy.OAuthHandler(tweepy_creds['twitter-api-key'], tweepy_creds['twitter-secret-key'])\n",
    "auth.set_access_token(tweepy_creds['twitter-access-token'], tweepy_creds['twitter-secret-access'])\n",
    "\n",
    "api = tweepy.API(auth)\n",
    "logging.debug('authorized API w/ client id and secret.')\n",
    "\n",
    "client = boto3.client('dynamodb',\n",
    "  endpoint_url = \"http://{}:{}\".format(tweepy_creds[\"host\"], tweepy_creds[\"port\"]),\n",
    "  aws_access_key_id=tweepy_creds[\"aws-access-key\"],\n",
    "  aws_secret_access_key=tweepy_creds[\"aws-secret-access-key\"],\n",
    "  region_name='us-east-2')\n",
    "\n",
    "dynamodb = boto3.resource('dynamodb', \\\n",
    "            endpoint_url = \"http://{}:{}\".format(tweepy_creds[\"host\"], tweepy_creds[\"port\"]), \\\n",
    "            region_name='us-east-2')\n",
    "\n",
    "session = botocore.session.get_session()\n",
    "dynamodb_session = session.create_client('dynamodb', \\\n",
    "                    region_name='us-east-2',\n",
    "                    endpoint_url = \"http://{}:{}\".format(tweepy_creds[\"host\"], tweepy_creds[\"port\"]),\n",
    "                    aws_access_key_id=tweepy_creds[\"aws-access-key\"],\n",
    "                    aws_secret_access_key=tweepy_creds[\"aws-secret-access-key\"]) # low-level client\n",
    "\n",
    "tweets = dynamodb.Table(\"tweets\")\n",
    "\n",
    "print(\"created dynamo client.\")"
   ]
  },
  {
   "attachments": {},
   "cell_type": "markdown",
   "metadata": {},
   "source": [
    "### get followers"
   ]
  },
  {
   "cell_type": "code",
   "execution_count": 5,
   "metadata": {},
   "outputs": [],
   "source": [
    "def get_followers(user):\n",
    "    following = []\n",
    "    friends_response = api.get_friends(screen_name = user, count = 100, cursor = -1)\n",
    "    following.extend([t.screen_name for t in friends_response[0]])\n",
    "    next_cursor = friends_response[1][1]\n",
    "    print(\"got most recent 100 following\")\n",
    "\n",
    "    while next_cursor != 0:\n",
    "        try:\n",
    "            friends_response = api.get_friends(screen_name = user, count = 100, cursor = next_cursor)\n",
    "            following.extend([t.screen_name for t in friends_response[0]])\n",
    "            next_cursor = friends_response[1][1]\n",
    "            print(\"got next 100 following\")\n",
    "        \n",
    "        except:\n",
    "            time.sleep(60*15)\n",
    "\n",
    "    return(following)"
   ]
  },
  {
   "cell_type": "code",
   "execution_count": 6,
   "metadata": {},
   "outputs": [
    {
     "name": "stdout",
     "output_type": "stream",
     "text": [
      "got most recent 100 following\n",
      "got next 100 following\n",
      "got next 100 following\n",
      "got next 100 following\n"
     ]
    }
   ],
   "source": [
    "my_following = get_followers(\"xanax_princess_\")"
   ]
  },
  {
   "cell_type": "code",
   "execution_count": 7,
   "metadata": {},
   "outputs": [
    {
     "name": "stdout",
     "output_type": "stream",
     "text": [
      "387\n"
     ]
    }
   ],
   "source": [
    "print(len(my_following))"
   ]
  },
  {
   "cell_type": "code",
   "execution_count": 17,
   "metadata": {},
   "outputs": [],
   "source": [
    "# test = api.user_timeline(screen_name = my_following[0], count = 25)"
   ]
  },
  {
   "cell_type": "code",
   "execution_count": 8,
   "metadata": {},
   "outputs": [],
   "source": [
    "# m = len(test)\n",
    "# test[m-1]._json[\"id\"]"
   ]
  },
  {
   "cell_type": "code",
   "execution_count": 9,
   "metadata": {},
   "outputs": [],
   "source": [
    "def batch_put_response(response, table):\n",
    "    with table.batch_writer() as batch:\n",
    "        for r in response:\n",
    "            try:\n",
    "                batch.put_item(Item = {\n",
    "                    \"user\": r.user.screen_name,\n",
    "                    \"created_at\": r.created_at.strftime(\"%Y-%m-%dT%H:%M:%SZ\"),\n",
    "                    \"tweet\": r.text,\n",
    "                    \"id\": r.id,\n",
    "                    \"retweets\": r.retweet_count,\n",
    "                    \"favorites\": r.favorite_count,\n",
    "                    \"inserted_at\": dt.datetime.now().strftime(\"%Y-%m-%dT%H:%M:%SZ\")\n",
    "                })\n",
    "        \n",
    "            except ClientError as err:\n",
    "                print(\"Couldn't load data into table %s. Here's why: %s: %s\", table.name, err.response['Error']['Code'], err.response['Error']['Message'])\n",
    "                raise"
   ]
  },
  {
   "attachments": {},
   "cell_type": "markdown",
   "metadata": {},
   "source": [
    "### get tweets per user"
   ]
  },
  {
   "cell_type": "code",
   "execution_count": 10,
   "metadata": {},
   "outputs": [],
   "source": [
    "def get_tweets(user, table):\n",
    "    print(\"scraping tweets for user: {}\".format(user))\n",
    "    timeline_response = api.user_timeline(screen_name = user, count = 25)\n",
    "    n = len(timeline_response)\n",
    "    last_id = timeline_response[n-1]._json[\"id\"]\n",
    "    i = 0\n",
    "\n",
    "    print(\"putting first batch\")\n",
    "    batch_put_response(timeline_response, table)\n",
    "    print(\"inserted batch to dynamodb successfully.\")\n",
    "    i += 1\n",
    "\n",
    "    while i < 25:\n",
    "        try:\n",
    "            timeline_response = api.user_timeline(screen_name = user, count = 25, max_id = last_id)\n",
    "            n = len(timeline_response)\n",
    "            last_id = timeline_response[n-1]._json[\"id\"]\n",
    "\n",
    "            batch_put_response(timeline_response, table)\n",
    "            print(\"inserted batch to dynamodb successfully.\")\n",
    "            i += 1\n",
    "    \n",
    "        except Exception as e:\n",
    "            print(e)\n",
    "            if \"429\" in str(e):\n",
    "                print(\"sleeping for 5 minutes\")\n",
    "                time.sleep(60*5)\n",
    "\n",
    "            else:\n",
    "                print(\"sleeping for a minute\")\n",
    "                time.sleep(60)"
   ]
  },
  {
   "cell_type": "code",
   "execution_count": 11,
   "metadata": {},
   "outputs": [],
   "source": [
    "# timeline_response = api.user_timeline(screen_name = my_following[0], count = 100)\n",
    "# timeline_response[0]._json"
   ]
  },
  {
   "attachments": {},
   "cell_type": "markdown",
   "metadata": {},
   "source": [
    "## get all tweets"
   ]
  },
  {
   "cell_type": "code",
   "execution_count": 2,
   "metadata": {},
   "outputs": [
    {
     "ename": "NameError",
     "evalue": "name 'dynamodb' is not defined",
     "output_type": "error",
     "traceback": [
      "\u001b[0;31m---------------------------------------------------------------------------\u001b[0m",
      "\u001b[0;31mNameError\u001b[0m                                 Traceback (most recent call last)",
      "Cell \u001b[0;32mIn[2], line 1\u001b[0m\n\u001b[0;32m----> 1\u001b[0m tweets \u001b[39m=\u001b[39m dynamodb\u001b[39m.\u001b[39mTable(\u001b[39m\"\u001b[39m\u001b[39mtweets\u001b[39m\u001b[39m\"\u001b[39m)\n\u001b[1;32m      3\u001b[0m \u001b[39mfor\u001b[39;00m f \u001b[39min\u001b[39;00m my_following:\n\u001b[1;32m      4\u001b[0m     \u001b[39mtry\u001b[39;00m:\n",
      "\u001b[0;31mNameError\u001b[0m: name 'dynamodb' is not defined"
     ]
    }
   ],
   "source": [
    "tweets = dynamodb.Table(\"tweets\")\n",
    "\n",
    "for f in my_following:\n",
    "    try:\n",
    "        output = get_tweets(f, tweets)\n",
    "        time.sleep(5)\n",
    "\n",
    "    except KeyboardInterrupt as k:\n",
    "        print(k)"
   ]
  },
  {
   "cell_type": "code",
   "execution_count": 55,
   "metadata": {},
   "outputs": [
    {
     "data": {
      "text/plain": [
       "{'Items': [{'favorites': Decimal('3'),\n",
       "   'created_at': '2023-01-24T18:09:56Z',\n",
       "   'tweet': '16 years \\U0001fae0 https://t.co/pmXRoXOdWz',\n",
       "   'id': Decimal('1617947826671190017'),\n",
       "   'retweets': Decimal('0'),\n",
       "   'user': 'colborkmundus',\n",
       "   'inserted_at': '2023-01-24T21:54:20Z'},\n",
       "  {'favorites': Decimal('1'),\n",
       "   'created_at': '2023-01-24T18:23:49Z',\n",
       "   'tweet': '16 years, noooooooo https://t.co/8poAs8c6dr',\n",
       "   'id': Decimal('1617951319050039299'),\n",
       "   'retweets': Decimal('0'),\n",
       "   'user': 'colborkmundus',\n",
       "   'inserted_at': '2023-01-24T21:54:20Z'},\n",
       "  {'favorites': Decimal('4'),\n",
       "   'created_at': '2023-01-24T19:51:02Z',\n",
       "   'tweet': 'gosh this stupid hellsite (affectionate) is my favorite bar and all and i love doing shitpost jello shots with the… https://t.co/2PP4R0jnJC',\n",
       "   'id': Decimal('1617973267859673088'),\n",
       "   'retweets': Decimal('0'),\n",
       "   'user': 'colborkmundus',\n",
       "   'inserted_at': '2023-01-24T21:54:20Z'},\n",
       "  {'favorites': Decimal('0'),\n",
       "   'created_at': '2023-01-24T23:56:36Z',\n",
       "   'tweet': 'RT @non_bunnary: @FizzyDog_ The address for her website is .gay\\n\\nIt’s very important and I think we shouldn’t forget it',\n",
       "   'id': Decimal('1618035070065082368'),\n",
       "   'retweets': Decimal('3'),\n",
       "   'user': 'colborkmundus',\n",
       "   'inserted_at': '2023-01-24T21:54:20Z'},\n",
       "  {'favorites': Decimal('0'),\n",
       "   'created_at': '2023-01-24T23:57:05Z',\n",
       "   'tweet': 'RT @alex_abads: absolutely craven to publish this headline after the murders in monterey park https://t.co/Soes0F00fX',\n",
       "   'id': Decimal('1618035191607595008'),\n",
       "   'retweets': Decimal('3520'),\n",
       "   'user': 'colborkmundus',\n",
       "   'inserted_at': '2023-01-24T21:54:20Z'},\n",
       "  {'favorites': Decimal('0'),\n",
       "   'created_at': '2023-01-24T23:58:15Z',\n",
       "   'tweet': 'RT @ElleArmageddon: If I were drafting a public-facing statement about mass layoffs at my company, I would probably abstain from including…',\n",
       "   'id': Decimal('1618035483237572608'),\n",
       "   'retweets': Decimal('11'),\n",
       "   'user': 'colborkmundus',\n",
       "   'inserted_at': '2023-01-24T21:54:20Z'},\n",
       "  {'favorites': Decimal('0'),\n",
       "   'created_at': '2023-01-25T00:00:32Z',\n",
       "   'tweet': \"RT @Dixie3Flatline: Honestly gobsmacked, it's grotesque.\\n\\nhttps://t.co/mnrQ8CBgzo\",\n",
       "   'id': Decimal('1618036055814606848'),\n",
       "   'retweets': Decimal('12'),\n",
       "   'user': 'colborkmundus',\n",
       "   'inserted_at': '2023-01-24T21:54:20Z'},\n",
       "  {'favorites': Decimal('0'),\n",
       "   'created_at': '2023-01-25T00:09:01Z',\n",
       "   'tweet': 'RT @ElleArmageddon: @timcheadle “Good leadership is cutting off people’s livelihoods to bolster share price, even though it might feel kind…',\n",
       "   'id': Decimal('1618038192749572096'),\n",
       "   'retweets': Decimal('1'),\n",
       "   'user': 'colborkmundus',\n",
       "   'inserted_at': '2023-01-24T21:54:20Z'},\n",
       "  {'favorites': Decimal('0'),\n",
       "   'created_at': '2023-01-25T00:09:38Z',\n",
       "   'tweet': 'RT @Dixie3Flatline: Like, I realize leadership is almost never going to actually take responsibility for layoffs, but at least have enough…',\n",
       "   'id': Decimal('1618038346516946946'),\n",
       "   'retweets': Decimal('5'),\n",
       "   'user': 'colborkmundus',\n",
       "   'inserted_at': '2023-01-24T21:54:20Z'},\n",
       "  {'favorites': Decimal('0'),\n",
       "   'created_at': '2023-01-25T00:10:19Z',\n",
       "   'tweet': 'RT @xanax_princess_: @Dixie3Flatline wow they straight up said “to protect shareholder returns” in it',\n",
       "   'id': Decimal('1618038520349863936'),\n",
       "   'retweets': Decimal('1'),\n",
       "   'user': 'colborkmundus',\n",
       "   'inserted_at': '2023-01-24T21:54:20Z'},\n",
       "  {'favorites': Decimal('2'),\n",
       "   'created_at': '2023-01-25T00:15:02Z',\n",
       "   'tweet': '@ScoopsStP idk i’d try it but then again i am raccoon',\n",
       "   'id': Decimal('1618039707082035200'),\n",
       "   'retweets': Decimal('0'),\n",
       "   'user': 'colborkmundus',\n",
       "   'inserted_at': '2023-01-24T21:54:20Z'},\n",
       "  {'favorites': Decimal('1'),\n",
       "   'created_at': '2023-01-25T00:15:11Z',\n",
       "   'tweet': '@ScoopsStP will report back if i do',\n",
       "   'id': Decimal('1618039744939831298'),\n",
       "   'retweets': Decimal('0'),\n",
       "   'user': 'colborkmundus',\n",
       "   'inserted_at': '2023-01-24T21:54:20Z'},\n",
       "  {'favorites': Decimal('0'),\n",
       "   'created_at': '2023-01-25T00:15:32Z',\n",
       "   'tweet': 'RT @ScoopsStP: God has abandoned us',\n",
       "   'id': Decimal('1618039831023734786'),\n",
       "   'retweets': Decimal('1'),\n",
       "   'user': 'colborkmundus',\n",
       "   'inserted_at': '2023-01-24T21:54:20Z'},\n",
       "  {'favorites': Decimal('0'),\n",
       "   'created_at': '2023-01-25T00:16:19Z',\n",
       "   'tweet': 'RT @evacide: Not gonna lie, I have advocated for turning on 2FA for everyone all the time in many circumstances. But here is one where it d…',\n",
       "   'id': Decimal('1618040028298633217'),\n",
       "   'retweets': Decimal('44'),\n",
       "   'user': 'colborkmundus',\n",
       "   'inserted_at': '2023-01-24T21:54:20Z'},\n",
       "  {'favorites': Decimal('0'),\n",
       "   'created_at': '2023-01-25T00:21:45Z',\n",
       "   'tweet': 'best, [most work scenarios]\\nsent from my pwnbox [sent in an email today, chaotic neutral]\\nregards, [office passive… https://t.co/ucOfaNx6IJ',\n",
       "   'id': Decimal('1618041397302677510'),\n",
       "   'retweets': Decimal('0'),\n",
       "   'user': 'colborkmundus',\n",
       "   'inserted_at': '2023-01-24T21:54:20Z'},\n",
       "  {'favorites': Decimal('0'),\n",
       "   'created_at': '2023-01-25T00:23:21Z',\n",
       "   'tweet': '@threadmancer omg this is the mousepad!!!! AHHHHH',\n",
       "   'id': Decimal('1618041800568221696'),\n",
       "   'retweets': Decimal('0'),\n",
       "   'user': 'colborkmundus',\n",
       "   'inserted_at': '2023-01-24T21:54:20Z'},\n",
       "  {'favorites': Decimal('0'),\n",
       "   'created_at': '2023-01-25T00:23:27Z',\n",
       "   'tweet': 'RT @threadmancer: https://t.co/0NSzJyH9Lr\\nHere he is! #Nightwing mousepad pre-orders are open! The first batch is expected at the end of Ma…',\n",
       "   'id': Decimal('1618041823192313857'),\n",
       "   'retweets': Decimal('5'),\n",
       "   'user': 'colborkmundus',\n",
       "   'inserted_at': '2023-01-24T21:54:20Z'},\n",
       "  {'favorites': Decimal('0'),\n",
       "   'created_at': '2023-01-25T00:27:06Z',\n",
       "   'tweet': 'RT @AndrewFleer: @kvlly Finally, I can email people about their car warranties!',\n",
       "   'id': Decimal('1618042745142251520'),\n",
       "   'retweets': Decimal('1'),\n",
       "   'user': 'colborkmundus',\n",
       "   'inserted_at': '2023-01-24T21:54:20Z'},\n",
       "  {'favorites': Decimal('0'),\n",
       "   'created_at': '2023-01-25T00:29:38Z',\n",
       "   'tweet': 'RT @_breeeeen_: @slime_succubus My first thought after “holy shit that is badass” was “wait, why is it being so public about this?”',\n",
       "   'id': Decimal('1618043381946658817'),\n",
       "   'retweets': Decimal('2'),\n",
       "   'user': 'colborkmundus',\n",
       "   'inserted_at': '2023-01-24T21:54:20Z'},\n",
       "  {'favorites': Decimal('1'),\n",
       "   'created_at': '2023-01-25T00:34:39Z',\n",
       "   'tweet': '@SilentUK @ScoopsStP https://t.co/UjucBVGJWt',\n",
       "   'id': Decimal('1618044642565689352'),\n",
       "   'retweets': Decimal('0'),\n",
       "   'user': 'colborkmundus',\n",
       "   'inserted_at': '2023-01-24T21:54:20Z'},\n",
       "  {'favorites': Decimal('0'),\n",
       "   'created_at': '2023-01-25T00:37:13Z',\n",
       "   'tweet': \"RT @eliomen: Note to self (and twitter); take more photos with friends, they don't have to be good photos, they are memories.\\n\\nHand your ph…\",\n",
       "   'id': Decimal('1618045289503547392'),\n",
       "   'retweets': Decimal('12'),\n",
       "   'user': 'colborkmundus',\n",
       "   'inserted_at': '2023-01-24T21:54:20Z'},\n",
       "  {'favorites': Decimal('1'),\n",
       "   'created_at': '2023-01-25T00:45:51Z',\n",
       "   'tweet': 'no words https://t.co/W2eC3wEVUS',\n",
       "   'id': Decimal('1618047461532237824'),\n",
       "   'retweets': Decimal('0'),\n",
       "   'user': 'colborkmundus',\n",
       "   'inserted_at': '2023-01-24T21:54:20Z'},\n",
       "  {'favorites': Decimal('0'),\n",
       "   'created_at': '2023-01-25T02:58:23Z',\n",
       "   'tweet': 'RT @primediscussion: One of my team members just asked if we “heard about how oxtail isn’t good for you” and I have to say bravo to Twitter…',\n",
       "   'id': Decimal('1618080816353136641'),\n",
       "   'retweets': Decimal('5547'),\n",
       "   'user': 'colborkmundus',\n",
       "   'inserted_at': '2023-01-24T21:54:20Z'},\n",
       "  {'favorites': Decimal('0'),\n",
       "   'created_at': '2023-01-25T02:58:25Z',\n",
       "   'tweet': 'RT @LUCKYCHARM727: @primediscussion You eat it, u getting the Pfizer shakes. It’s irresponsible journalism not to inform the masses.',\n",
       "   'id': Decimal('1618080821688303617'),\n",
       "   'retweets': Decimal('124'),\n",
       "   'user': 'colborkmundus',\n",
       "   'inserted_at': '2023-01-24T21:54:20Z'},\n",
       "  {'favorites': Decimal('0'),\n",
       "   'created_at': '2023-01-25T03:02:55Z',\n",
       "   'tweet': \"RT @literalrrrats: rick and morty continuing without justin roiland, panic at the disco 'disbanding' this is the worst day ever for the 36…\",\n",
       "   'id': Decimal('1618081956763414528'),\n",
       "   'retweets': Decimal('1294'),\n",
       "   'user': 'colborkmundus',\n",
       "   'inserted_at': '2023-01-24T21:54:20Z'}],\n",
       " 'Count': 25,\n",
       " 'ScannedCount': 25,\n",
       " 'ResponseMetadata': {'RequestId': 'd7731236-05cd-4f03-8f36-c6bd6dccff3c',\n",
       "  'HTTPStatusCode': 200,\n",
       "  'HTTPHeaders': {'date': 'Wed, 25 Jan 2023 03:56:16 GMT',\n",
       "   'content-type': 'application/x-amz-json-1.0',\n",
       "   'x-amz-crc32': '3110377165',\n",
       "   'x-amzn-requestid': 'd7731236-05cd-4f03-8f36-c6bd6dccff3c',\n",
       "   'content-length': '7830',\n",
       "   'server': 'Jetty(9.4.48.v20220622)'},\n",
       "  'RetryAttempts': 0}}"
      ]
     },
     "execution_count": 55,
     "metadata": {},
     "output_type": "execute_result"
    }
   ],
   "source": [
    "response = tweets.scan()\n",
    "response"
   ]
  },
  {
   "cell_type": "code",
   "execution_count": 56,
   "metadata": {},
   "outputs": [
    {
     "name": "stdout",
     "output_type": "stream",
     "text": [
      "{\n",
      "    \"Table\": {\n",
      "        \"AttributeDefinitions\": [\n",
      "            {\n",
      "                \"AttributeName\": \"user\",\n",
      "                \"AttributeType\": \"S\"\n",
      "            },\n",
      "            {\n",
      "                \"AttributeName\": \"created_at\",\n",
      "                \"AttributeType\": \"S\"\n",
      "            }\n",
      "        ],\n",
      "        \"TableName\": \"tweets\",\n",
      "        \"KeySchema\": [\n",
      "            {\n",
      "                \"AttributeName\": \"user\",\n",
      "                \"KeyType\": \"HASH\"\n",
      "            },\n",
      "            {\n",
      "                \"AttributeName\": \"created_at\",\n",
      "                \"KeyType\": \"RANGE\"\n",
      "            }\n",
      "        ],\n",
      "        \"TableStatus\": \"ACTIVE\",\n",
      "        \"CreationDateTime\": 1674535588.165,\n",
      "        \"ProvisionedThroughput\": {\n",
      "            \"LastIncreaseDateTime\": 0.0,\n",
      "            \"LastDecreaseDateTime\": 0.0,\n",
      "            \"NumberOfDecreasesToday\": 0,\n",
      "            \"ReadCapacityUnits\": 10,\n",
      "            \"WriteCapacityUnits\": 10\n",
      "        },\n",
      "        \"TableSizeBytes\": 5434,\n",
      "        \"ItemCount\": 25,\n",
      "        \"TableArn\": \"arn:aws:dynamodb:ddblocal:000000000000:table/tweets\"\n",
      "    }\n",
      "}\n"
     ]
    }
   ],
   "source": [
    "! aws dynamodb describe-table --table-name \"tweets\" --endpoint-url http://xanaxprincess.asuscomm.com:8001"
   ]
  },
  {
   "cell_type": "code",
   "execution_count": null,
   "metadata": {},
   "outputs": [],
   "source": []
  }
 ],
 "metadata": {
  "kernelspec": {
   "display_name": "twitter.ai",
   "language": "python",
   "name": "twitter.ai"
  },
  "language_info": {
   "codemirror_mode": {
    "name": "ipython",
    "version": 3
   },
   "file_extension": ".py",
   "mimetype": "text/x-python",
   "name": "python",
   "nbconvert_exporter": "python",
   "pygments_lexer": "ipython3",
   "version": "3.8.10"
  },
  "vscode": {
   "interpreter": {
    "hash": "55254a09b27e21896d77b069f7c5daccd61a03baf7db689fe62bada468b7bdce"
   }
  }
 },
 "nbformat": 4,
 "nbformat_minor": 4
}

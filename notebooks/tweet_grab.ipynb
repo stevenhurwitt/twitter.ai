{
 "cells": [
  {
   "cell_type": "markdown",
   "metadata": {},
   "source": [
    "# tweet grab"
   ]
  },
  {
   "cell_type": "code",
   "execution_count": 1,
   "metadata": {},
   "outputs": [
    {
     "name": "stdout",
     "output_type": "stream",
     "text": [
      "imported modules successfully.\n"
     ]
    }
   ],
   "source": [
    "import os\n",
    "import tweepy\n",
    "import logging\n",
    "import pprint\n",
    "import json\n",
    "import time\n",
    "import boto3\n",
    "import datetime\n",
    "import pandas as pd\n",
    "import numpy as np\n",
    "print('imported modules successfully.')"
   ]
  },
  {
   "attachments": {},
   "cell_type": "markdown",
   "metadata": {},
   "source": [
    "### set api creds"
   ]
  },
  {
   "cell_type": "code",
   "execution_count": 2,
   "metadata": {},
   "outputs": [
    {
     "name": "stdout",
     "output_type": "stream",
     "text": [
      "initialized modules.\n"
     ]
    }
   ],
   "source": [
    "base = os.getcwd()\n",
    "data_dir = os.path.join(base, 'data')\n",
    "log_dir = os.path.join(base, 'logs')\n",
    "pp = pprint.PrettyPrinter(indent = 1)\n",
    "\n",
    "os.chdir(base)\n",
    "\n",
    "with open('./../creds.json', 'r') as f:\n",
    "    tweepy_creds = json.load(f)\n",
    "f.close()\n",
    "    \n",
    "auth = tweepy.OAuthHandler(tweepy_creds['twitter-api-key'], tweepy_creds['twitter-secret-key'])\n",
    "auth.set_access_token(tweepy_creds['twitter-access-token'], tweepy_creds['twitter-secret-access'])\n",
    "\n",
    "api = tweepy.API(auth)\n",
    "logging.debug('authorized API w/ client id and secret.')\n",
    "print('initialized modules.')"
   ]
  },
  {
   "attachments": {},
   "cell_type": "markdown",
   "metadata": {},
   "source": [
    "### get followers"
   ]
  },
  {
   "cell_type": "code",
   "execution_count": 6,
   "metadata": {},
   "outputs": [],
   "source": [
    "def get_followers(user):\n",
    "    following = []\n",
    "    friends_response = api.get_friends(screen_name = user, count = 100, cursor = -1)\n",
    "    following.extend([t.screen_name for t in friends_response[0]])\n",
    "    next_cursor = friends_response[1][1]\n",
    "    print(\"got most recent 100 following\")\n",
    "\n",
    "    while next_cursor != 0:\n",
    "        try:\n",
    "            friends_response = api.get_friends(screen_name = user, count = 100, cursor = next_cursor)\n",
    "            following.extend([t.screen_name for t in friends_response[0]])\n",
    "            next_cursor = friends_response[1][1]\n",
    "            print(\"got next 100 following\")\n",
    "        \n",
    "        except:\n",
    "            time.sleep(60*15)\n",
    "\n",
    "    return(following)"
   ]
  },
  {
   "cell_type": "code",
   "execution_count": 7,
   "metadata": {},
   "outputs": [
    {
     "name": "stdout",
     "output_type": "stream",
     "text": [
      "got most recent 100 following\n",
      "got next 100 following\n",
      "got next 100 following\n",
      "got next 100 following\n"
     ]
    }
   ],
   "source": [
    "my_following = get_followers(\"xanax_princess_\")"
   ]
  },
  {
   "cell_type": "code",
   "execution_count": 8,
   "metadata": {},
   "outputs": [
    {
     "name": "stdout",
     "output_type": "stream",
     "text": [
      "383\n"
     ]
    }
   ],
   "source": [
    "print(len(my_following))"
   ]
  },
  {
   "attachments": {},
   "cell_type": "markdown",
   "metadata": {},
   "source": [
    "### get tweets per user"
   ]
  },
  {
   "cell_type": "code",
   "execution_count": 79,
   "metadata": {},
   "outputs": [],
   "source": [
    "def get_tweets(user):\n",
    "    print(\"scraping tweets for user: {}\".format(user))\n",
    "    i = 0\n",
    "    tweets = []\n",
    "    timeline_response = api.user_timeline(screen_name = user, count = 100)\n",
    "    tweets.extend([(t.user.screen_name, t.text, t.id, t.created_at, t.retweet_count, t.favorite_count) for t in timeline_response])\n",
    "    n = len(timeline_response)\n",
    "    last_id = tweets[n-1][1]\n",
    "    i += 1\n",
    "\n",
    "    while (i < 20):\n",
    "        try:\n",
    "            timeline_response = api.user_timeline(screen_name = user, count = 100, max_id = last_id)\n",
    "            tweets.extend([(t.user.screen_name, t.text, t.id, t.created_at, t.retweet_count, t.favorite_count) for t in timeline_response])\n",
    "            n = len(timeline_response)\n",
    "            last_id = tweets[n-1][1]\n",
    "            i += 1\n",
    "        \n",
    "        except Exception as e:\n",
    "            print(e)\n",
    "            if \"429\" in str(e):\n",
    "                print(\"sleeping for 5 minutes\")\n",
    "                time.sleep(60*5)\n",
    "\n",
    "            else:\n",
    "                print(\"sleeping for a minute\")\n",
    "                time.sleep(60)\n",
    "\n",
    "    return(tweets)"
   ]
  },
  {
   "cell_type": "code",
   "execution_count": 61,
   "metadata": {},
   "outputs": [
    {
     "name": "stdout",
     "output_type": "stream",
     "text": [
      "scraping tweets for user: _nyancrimew\n"
     ]
    }
   ],
   "source": [
    "my_tweets = get_tweets(my_following[0])"
   ]
  },
  {
   "cell_type": "code",
   "execution_count": 63,
   "metadata": {},
   "outputs": [],
   "source": [
    "# my_tweets"
   ]
  },
  {
   "cell_type": "code",
   "execution_count": 64,
   "metadata": {},
   "outputs": [],
   "source": [
    "# timeline_response = api.user_timeline(screen_name = my_following[0], count = 100)\n",
    "# timeline_response[0]._json"
   ]
  },
  {
   "cell_type": "code",
   "execution_count": 65,
   "metadata": {},
   "outputs": [],
   "source": [
    "# my_tweets"
   ]
  },
  {
   "attachments": {},
   "cell_type": "markdown",
   "metadata": {},
   "source": [
    "## get all tweets"
   ]
  },
  {
   "cell_type": "code",
   "execution_count": 75,
   "metadata": {},
   "outputs": [],
   "source": [
    "subset = my_following[18:40]"
   ]
  },
  {
   "cell_type": "code",
   "execution_count": 76,
   "metadata": {},
   "outputs": [
    {
     "name": "stdout",
     "output_type": "stream",
     "text": [
      "scraping tweets for user: youngtiddy\n",
      "scraping tweets for user: FranziaMom\n",
      "scraping tweets for user: pilatesdev\n",
      "scraping tweets for user: mike_julian\n",
      "scraping tweets for user: knifeplay_music\n",
      "scraping tweets for user: joneaux\n",
      "scraping tweets for user: GergelyOrosz\n",
      "scraping tweets for user: p8stie\n",
      "scraping tweets for user: shanselman\n",
      "scraping tweets for user: arturo182\n",
      "scraping tweets for user: chompie1337\n",
      "scraping tweets for user: OliverBaxxter\n",
      "scraping tweets for user: nothingnowhere\n",
      "scraping tweets for user: Senn_Spud\n",
      "scraping tweets for user: frankivelli\n",
      "scraping tweets for user: page_eco\n",
      "scraping tweets for user: adriyoung\n",
      "scraping tweets for user: wildtiktokss\n",
      "scraping tweets for user: 23Five\n",
      "scraping tweets for user: stinkykatie\n",
      "scraping tweets for user: thisisnaomie\n",
      "scraping tweets for user: whotfisjovana\n"
     ]
    }
   ],
   "source": [
    "master_tweets = []\n",
    "\n",
    "for f in subset:\n",
    "    output = get_tweets(f)\n",
    "    master_tweets.extend(output)\n",
    "    time.sleep(5)"
   ]
  },
  {
   "cell_type": "code",
   "execution_count": 77,
   "metadata": {},
   "outputs": [
    {
     "data": {
      "text/html": [
       "<div>\n",
       "<style scoped>\n",
       "    .dataframe tbody tr th:only-of-type {\n",
       "        vertical-align: middle;\n",
       "    }\n",
       "\n",
       "    .dataframe tbody tr th {\n",
       "        vertical-align: top;\n",
       "    }\n",
       "\n",
       "    .dataframe thead th {\n",
       "        text-align: right;\n",
       "    }\n",
       "</style>\n",
       "<table border=\"1\" class=\"dataframe\">\n",
       "  <thead>\n",
       "    <tr style=\"text-align: right;\">\n",
       "      <th></th>\n",
       "      <th>user</th>\n",
       "      <th>text</th>\n",
       "      <th>id</th>\n",
       "      <th>created_at</th>\n",
       "      <th>retweet_count</th>\n",
       "      <th>favorite_count</th>\n",
       "    </tr>\n",
       "  </thead>\n",
       "  <tbody>\n",
       "    <tr>\n",
       "      <th>0</th>\n",
       "      <td>youngtiddy</td>\n",
       "      <td>@thepoleninja like bitch i’m just eating break...</td>\n",
       "      <td>1616924863645777923</td>\n",
       "      <td>2023-01-21 22:25:03+00:00</td>\n",
       "      <td>0</td>\n",
       "      <td>11</td>\n",
       "    </tr>\n",
       "    <tr>\n",
       "      <th>1</th>\n",
       "      <td>youngtiddy</td>\n",
       "      <td>male birth control? thank god. way too many ma...</td>\n",
       "      <td>1616870084907261952</td>\n",
       "      <td>2023-01-21 18:47:22+00:00</td>\n",
       "      <td>32</td>\n",
       "      <td>407</td>\n",
       "    </tr>\n",
       "    <tr>\n",
       "      <th>2</th>\n",
       "      <td>youngtiddy</td>\n",
       "      <td>i’d smoke it here and there i’d smoke it anywhere</td>\n",
       "      <td>1616860690073128962</td>\n",
       "      <td>2023-01-21 18:10:02+00:00</td>\n",
       "      <td>18</td>\n",
       "      <td>348</td>\n",
       "    </tr>\n",
       "    <tr>\n",
       "      <th>3</th>\n",
       "      <td>youngtiddy</td>\n",
       "      <td>@KMRTMoose !!!</td>\n",
       "      <td>1616849585498120195</td>\n",
       "      <td>2023-01-21 17:25:55+00:00</td>\n",
       "      <td>0</td>\n",
       "      <td>9</td>\n",
       "    </tr>\n",
       "    <tr>\n",
       "      <th>4</th>\n",
       "      <td>youngtiddy</td>\n",
       "      <td>@redpyrameadhead acting like i’m responsible l...</td>\n",
       "      <td>1616849452328947713</td>\n",
       "      <td>2023-01-21 17:25:23+00:00</td>\n",
       "      <td>0</td>\n",
       "      <td>26</td>\n",
       "    </tr>\n",
       "  </tbody>\n",
       "</table>\n",
       "</div>"
      ],
      "text/plain": [
       "         user                                               text  \\\n",
       "0  youngtiddy  @thepoleninja like bitch i’m just eating break...   \n",
       "1  youngtiddy  male birth control? thank god. way too many ma...   \n",
       "2  youngtiddy  i’d smoke it here and there i’d smoke it anywhere   \n",
       "3  youngtiddy                                     @KMRTMoose !!!   \n",
       "4  youngtiddy  @redpyrameadhead acting like i’m responsible l...   \n",
       "\n",
       "                    id                created_at  retweet_count  \\\n",
       "0  1616924863645777923 2023-01-21 22:25:03+00:00              0   \n",
       "1  1616870084907261952 2023-01-21 18:47:22+00:00             32   \n",
       "2  1616860690073128962 2023-01-21 18:10:02+00:00             18   \n",
       "3  1616849585498120195 2023-01-21 17:25:55+00:00              0   \n",
       "4  1616849452328947713 2023-01-21 17:25:23+00:00              0   \n",
       "\n",
       "   favorite_count  \n",
       "0              11  \n",
       "1             407  \n",
       "2             348  \n",
       "3               9  \n",
       "4              26  "
      ]
     },
     "execution_count": 77,
     "metadata": {},
     "output_type": "execute_result"
    }
   ],
   "source": [
    "df = pd.DataFrame(master_tweets, columns = ['user', 'text', 'id', 'created_at', 'retweet_count', 'favorite_count'])\n",
    "df.head()"
   ]
  },
  {
   "cell_type": "code",
   "execution_count": 78,
   "metadata": {},
   "outputs": [
    {
     "data": {
      "text/html": [
       "<div>\n",
       "<style scoped>\n",
       "    .dataframe tbody tr th:only-of-type {\n",
       "        vertical-align: middle;\n",
       "    }\n",
       "\n",
       "    .dataframe tbody tr th {\n",
       "        vertical-align: top;\n",
       "    }\n",
       "\n",
       "    .dataframe thead th {\n",
       "        text-align: right;\n",
       "    }\n",
       "</style>\n",
       "<table border=\"1\" class=\"dataframe\">\n",
       "  <thead>\n",
       "    <tr style=\"text-align: right;\">\n",
       "      <th></th>\n",
       "      <th>user</th>\n",
       "      <th>text</th>\n",
       "      <th>id</th>\n",
       "      <th>created_at</th>\n",
       "      <th>retweet_count</th>\n",
       "      <th>favorite_count</th>\n",
       "    </tr>\n",
       "  </thead>\n",
       "  <tbody>\n",
       "    <tr>\n",
       "      <th>2079</th>\n",
       "      <td>whotfisjovana</td>\n",
       "      <td>@darlingchandIer literally I’d be hugging, and...</td>\n",
       "      <td>1616666452525719552</td>\n",
       "      <td>2023-01-21 05:18:13+00:00</td>\n",
       "      <td>2</td>\n",
       "      <td>13</td>\n",
       "    </tr>\n",
       "    <tr>\n",
       "      <th>2080</th>\n",
       "      <td>whotfisjovana</td>\n",
       "      <td>i mean i loveee myself but in a more romantic ...</td>\n",
       "      <td>1616665986026901504</td>\n",
       "      <td>2023-01-21 05:16:21+00:00</td>\n",
       "      <td>2</td>\n",
       "      <td>60</td>\n",
       "    </tr>\n",
       "    <tr>\n",
       "      <th>2081</th>\n",
       "      <td>whotfisjovana</td>\n",
       "      <td>i wish i fell in love with someone like myself...</td>\n",
       "      <td>1616665713585823745</td>\n",
       "      <td>2023-01-21 05:15:16+00:00</td>\n",
       "      <td>422</td>\n",
       "      <td>2954</td>\n",
       "    </tr>\n",
       "    <tr>\n",
       "      <th>2082</th>\n",
       "      <td>whotfisjovana</td>\n",
       "      <td>what makes my beautiful heart look so stompable</td>\n",
       "      <td>1616665289998876673</td>\n",
       "      <td>2023-01-21 05:13:35+00:00</td>\n",
       "      <td>35</td>\n",
       "      <td>180</td>\n",
       "    </tr>\n",
       "    <tr>\n",
       "      <th>2083</th>\n",
       "      <td>whotfisjovana</td>\n",
       "      <td>truly reminds me that the only person who has ...</td>\n",
       "      <td>1616663105290878976</td>\n",
       "      <td>2023-01-21 05:04:55+00:00</td>\n",
       "      <td>7</td>\n",
       "      <td>68</td>\n",
       "    </tr>\n",
       "  </tbody>\n",
       "</table>\n",
       "</div>"
      ],
      "text/plain": [
       "               user                                               text  \\\n",
       "2079  whotfisjovana  @darlingchandIer literally I’d be hugging, and...   \n",
       "2080  whotfisjovana  i mean i loveee myself but in a more romantic ...   \n",
       "2081  whotfisjovana  i wish i fell in love with someone like myself...   \n",
       "2082  whotfisjovana    what makes my beautiful heart look so stompable   \n",
       "2083  whotfisjovana  truly reminds me that the only person who has ...   \n",
       "\n",
       "                       id                created_at  retweet_count  \\\n",
       "2079  1616666452525719552 2023-01-21 05:18:13+00:00              2   \n",
       "2080  1616665986026901504 2023-01-21 05:16:21+00:00              2   \n",
       "2081  1616665713585823745 2023-01-21 05:15:16+00:00            422   \n",
       "2082  1616665289998876673 2023-01-21 05:13:35+00:00             35   \n",
       "2083  1616663105290878976 2023-01-21 05:04:55+00:00              7   \n",
       "\n",
       "      favorite_count  \n",
       "2079              13  \n",
       "2080              60  \n",
       "2081            2954  \n",
       "2082             180  \n",
       "2083              68  "
      ]
     },
     "execution_count": 78,
     "metadata": {},
     "output_type": "execute_result"
    }
   ],
   "source": [
    "df.tail()"
   ]
  },
  {
   "cell_type": "code",
   "execution_count": 81,
   "metadata": {},
   "outputs": [],
   "source": [
    "master_tweets_df = pd.concat([master_tweets_df, df], axis = 0).reset_index(drop = True)"
   ]
  },
  {
   "cell_type": "code",
   "execution_count": 82,
   "metadata": {},
   "outputs": [
    {
     "data": {
      "text/html": [
       "<div>\n",
       "<style scoped>\n",
       "    .dataframe tbody tr th:only-of-type {\n",
       "        vertical-align: middle;\n",
       "    }\n",
       "\n",
       "    .dataframe tbody tr th {\n",
       "        vertical-align: top;\n",
       "    }\n",
       "\n",
       "    .dataframe thead th {\n",
       "        text-align: right;\n",
       "    }\n",
       "</style>\n",
       "<table border=\"1\" class=\"dataframe\">\n",
       "  <thead>\n",
       "    <tr style=\"text-align: right;\">\n",
       "      <th></th>\n",
       "      <th>user</th>\n",
       "      <th>text</th>\n",
       "      <th>id</th>\n",
       "      <th>created_at</th>\n",
       "      <th>retweet_count</th>\n",
       "      <th>favorite_count</th>\n",
       "    </tr>\n",
       "  </thead>\n",
       "  <tbody>\n",
       "    <tr>\n",
       "      <th>0</th>\n",
       "      <td>_nyancrimew</td>\n",
       "      <td>@coolartcorner OMG I LOVE THESE</td>\n",
       "      <td>1617029128032600064</td>\n",
       "      <td>2023-01-22 05:19:21+00:00</td>\n",
       "      <td>0</td>\n",
       "      <td>4</td>\n",
       "    </tr>\n",
       "    <tr>\n",
       "      <th>1</th>\n",
       "      <td>_nyancrimew</td>\n",
       "      <td>RT @coolartcorner: holy fucking bingle! https:...</td>\n",
       "      <td>1617029094373478400</td>\n",
       "      <td>2023-01-22 05:19:13+00:00</td>\n",
       "      <td>18</td>\n",
       "      <td>0</td>\n",
       "    </tr>\n",
       "    <tr>\n",
       "      <th>2</th>\n",
       "      <td>_nyancrimew</td>\n",
       "      <td>RT @jerl_0: holy fucking bingle. what?! :3</td>\n",
       "      <td>1617028264400142338</td>\n",
       "      <td>2023-01-22 05:15:55+00:00</td>\n",
       "      <td>5</td>\n",
       "      <td>0</td>\n",
       "    </tr>\n",
       "    <tr>\n",
       "      <th>3</th>\n",
       "      <td>_nyancrimew</td>\n",
       "      <td>RT @unixanimals: BINGLE-SUPPORTED\\nJOIN YHE :3...</td>\n",
       "      <td>1617027753504653312</td>\n",
       "      <td>2023-01-22 05:13:54+00:00</td>\n",
       "      <td>2</td>\n",
       "      <td>0</td>\n",
       "    </tr>\n",
       "    <tr>\n",
       "      <th>4</th>\n",
       "      <td>_nyancrimew</td>\n",
       "      <td>@TempleOfTefnut i have a little experience\\n\\n...</td>\n",
       "      <td>1617025824024301568</td>\n",
       "      <td>2023-01-22 05:06:13+00:00</td>\n",
       "      <td>0</td>\n",
       "      <td>4</td>\n",
       "    </tr>\n",
       "  </tbody>\n",
       "</table>\n",
       "</div>"
      ],
      "text/plain": [
       "          user                                               text  \\\n",
       "0  _nyancrimew                    @coolartcorner OMG I LOVE THESE   \n",
       "1  _nyancrimew  RT @coolartcorner: holy fucking bingle! https:...   \n",
       "2  _nyancrimew         RT @jerl_0: holy fucking bingle. what?! :3   \n",
       "3  _nyancrimew  RT @unixanimals: BINGLE-SUPPORTED\\nJOIN YHE :3...   \n",
       "4  _nyancrimew  @TempleOfTefnut i have a little experience\\n\\n...   \n",
       "\n",
       "                    id                created_at  retweet_count  \\\n",
       "0  1617029128032600064 2023-01-22 05:19:21+00:00              0   \n",
       "1  1617029094373478400 2023-01-22 05:19:13+00:00             18   \n",
       "2  1617028264400142338 2023-01-22 05:15:55+00:00              5   \n",
       "3  1617027753504653312 2023-01-22 05:13:54+00:00              2   \n",
       "4  1617025824024301568 2023-01-22 05:06:13+00:00              0   \n",
       "\n",
       "   favorite_count  \n",
       "0               4  \n",
       "1               0  \n",
       "2               0  \n",
       "3               0  \n",
       "4               4  "
      ]
     },
     "execution_count": 82,
     "metadata": {},
     "output_type": "execute_result"
    }
   ],
   "source": [
    "master_tweets_df.head()"
   ]
  },
  {
   "cell_type": "code",
   "execution_count": 83,
   "metadata": {},
   "outputs": [
    {
     "data": {
      "text/html": [
       "<div>\n",
       "<style scoped>\n",
       "    .dataframe tbody tr th:only-of-type {\n",
       "        vertical-align: middle;\n",
       "    }\n",
       "\n",
       "    .dataframe tbody tr th {\n",
       "        vertical-align: top;\n",
       "    }\n",
       "\n",
       "    .dataframe thead th {\n",
       "        text-align: right;\n",
       "    }\n",
       "</style>\n",
       "<table border=\"1\" class=\"dataframe\">\n",
       "  <thead>\n",
       "    <tr style=\"text-align: right;\">\n",
       "      <th></th>\n",
       "      <th>user</th>\n",
       "      <th>text</th>\n",
       "      <th>id</th>\n",
       "      <th>created_at</th>\n",
       "      <th>retweet_count</th>\n",
       "      <th>favorite_count</th>\n",
       "    </tr>\n",
       "  </thead>\n",
       "  <tbody>\n",
       "    <tr>\n",
       "      <th>3745</th>\n",
       "      <td>whotfisjovana</td>\n",
       "      <td>@darlingchandIer literally I’d be hugging, and...</td>\n",
       "      <td>1616666452525719552</td>\n",
       "      <td>2023-01-21 05:18:13+00:00</td>\n",
       "      <td>2</td>\n",
       "      <td>13</td>\n",
       "    </tr>\n",
       "    <tr>\n",
       "      <th>3746</th>\n",
       "      <td>whotfisjovana</td>\n",
       "      <td>i mean i loveee myself but in a more romantic ...</td>\n",
       "      <td>1616665986026901504</td>\n",
       "      <td>2023-01-21 05:16:21+00:00</td>\n",
       "      <td>2</td>\n",
       "      <td>60</td>\n",
       "    </tr>\n",
       "    <tr>\n",
       "      <th>3747</th>\n",
       "      <td>whotfisjovana</td>\n",
       "      <td>i wish i fell in love with someone like myself...</td>\n",
       "      <td>1616665713585823745</td>\n",
       "      <td>2023-01-21 05:15:16+00:00</td>\n",
       "      <td>422</td>\n",
       "      <td>2954</td>\n",
       "    </tr>\n",
       "    <tr>\n",
       "      <th>3748</th>\n",
       "      <td>whotfisjovana</td>\n",
       "      <td>what makes my beautiful heart look so stompable</td>\n",
       "      <td>1616665289998876673</td>\n",
       "      <td>2023-01-21 05:13:35+00:00</td>\n",
       "      <td>35</td>\n",
       "      <td>180</td>\n",
       "    </tr>\n",
       "    <tr>\n",
       "      <th>3749</th>\n",
       "      <td>whotfisjovana</td>\n",
       "      <td>truly reminds me that the only person who has ...</td>\n",
       "      <td>1616663105290878976</td>\n",
       "      <td>2023-01-21 05:04:55+00:00</td>\n",
       "      <td>7</td>\n",
       "      <td>68</td>\n",
       "    </tr>\n",
       "  </tbody>\n",
       "</table>\n",
       "</div>"
      ],
      "text/plain": [
       "               user                                               text  \\\n",
       "3745  whotfisjovana  @darlingchandIer literally I’d be hugging, and...   \n",
       "3746  whotfisjovana  i mean i loveee myself but in a more romantic ...   \n",
       "3747  whotfisjovana  i wish i fell in love with someone like myself...   \n",
       "3748  whotfisjovana    what makes my beautiful heart look so stompable   \n",
       "3749  whotfisjovana  truly reminds me that the only person who has ...   \n",
       "\n",
       "                       id                created_at  retweet_count  \\\n",
       "3745  1616666452525719552 2023-01-21 05:18:13+00:00              2   \n",
       "3746  1616665986026901504 2023-01-21 05:16:21+00:00              2   \n",
       "3747  1616665713585823745 2023-01-21 05:15:16+00:00            422   \n",
       "3748  1616665289998876673 2023-01-21 05:13:35+00:00             35   \n",
       "3749  1616663105290878976 2023-01-21 05:04:55+00:00              7   \n",
       "\n",
       "      favorite_count  \n",
       "3745              13  \n",
       "3746              60  \n",
       "3747            2954  \n",
       "3748             180  \n",
       "3749              68  "
      ]
     },
     "execution_count": 83,
     "metadata": {},
     "output_type": "execute_result"
    }
   ],
   "source": [
    "master_tweets_df.tail()"
   ]
  },
  {
   "cell_type": "code",
   "execution_count": null,
   "metadata": {},
   "outputs": [],
   "source": []
  }
 ],
 "metadata": {
  "kernelspec": {
   "display_name": "twitter.ai",
   "language": "python",
   "name": "python3"
  },
  "language_info": {
   "codemirror_mode": {
    "name": "ipython",
    "version": 3
   },
   "file_extension": ".py",
   "mimetype": "text/x-python",
   "name": "python",
   "nbconvert_exporter": "python",
   "pygments_lexer": "ipython3",
   "version": "3.10.8"
  },
  "vscode": {
   "interpreter": {
    "hash": "55254a09b27e21896d77b069f7c5daccd61a03baf7db689fe62bada468b7bdce"
   }
  }
 },
 "nbformat": 4,
 "nbformat_minor": 4
}

{
 "cells": [
  {
   "cell_type": "markdown",
   "metadata": {},
   "source": [
    "# tweet grab"
   ]
  },
  {
   "cell_type": "code",
   "execution_count": 1,
   "metadata": {},
   "outputs": [
    {
     "name": "stdout",
     "output_type": "stream",
     "text": [
      "imported modules successfully.\n"
     ]
    }
   ],
   "source": [
    "import os\n",
    "import tweepy\n",
    "import logging\n",
    "import pprint\n",
    "import json\n",
    "import time\n",
    "import boto3\n",
    "import datetime as dt\n",
    "import pandas as pd\n",
    "import numpy as np\n",
    "import botocore.session\n",
    "from botocore.exceptions import ClientError\n",
    "from boto3.dynamodb.conditions import Key, Attr\n",
    "print('imported modules successfully.')"
   ]
  },
  {
   "attachments": {},
   "cell_type": "markdown",
   "metadata": {},
   "source": [
    "### set api creds"
   ]
  },
  {
   "cell_type": "code",
   "execution_count": 2,
   "metadata": {},
   "outputs": [
    {
     "name": "stdout",
     "output_type": "stream",
     "text": [
      "created dynamo client.\n"
     ]
    }
   ],
   "source": [
    "base = os.getcwd()\n",
    "data_dir = os.path.join(base, 'data')\n",
    "log_dir = os.path.join(base, 'logs')\n",
    "pp = pprint.PrettyPrinter(indent = 1)\n",
    "\n",
    "os.chdir(base)\n",
    "\n",
    "with open('./../creds.json', 'r') as f:\n",
    "    tweepy_creds = json.load(f)\n",
    "f.close()\n",
    "    \n",
    "auth = tweepy.OAuthHandler(tweepy_creds['twitter-api-key'], tweepy_creds['twitter-secret-key'])\n",
    "auth.set_access_token(tweepy_creds['twitter-access-token'], tweepy_creds['twitter-secret-access'])\n",
    "\n",
    "api = tweepy.API(auth)\n",
    "logging.debug('authorized API w/ client id and secret.')\n",
    "\n",
    "client = boto3.client('dynamodb',\n",
    "  endpoint_url = \"http://{}:{}\".format(tweepy_creds[\"host\"], tweepy_creds[\"port\"]),\n",
    "  aws_access_key_id=tweepy_creds[\"aws-access-key\"],\n",
    "  aws_secret_access_key=tweepy_creds[\"aws-secret-access-key\"],\n",
    "  region_name='us-east-2')\n",
    "\n",
    "dynamodb = boto3.resource('dynamodb', \\\n",
    "            endpoint_url = \"http://{}:{}\".format(tweepy_creds[\"host\"], tweepy_creds[\"port\"]), \\\n",
    "            region_name='us-east-2')\n",
    "\n",
    "session = botocore.session.get_session()\n",
    "dynamodb_session = session.create_client('dynamodb', \\\n",
    "                    region_name='us-east-2',\n",
    "                    endpoint_url = \"http://{}:{}\".format(tweepy_creds[\"host\"], tweepy_creds[\"port\"]),\n",
    "                    aws_access_key_id=tweepy_creds[\"aws-access-key\"],\n",
    "                    aws_secret_access_key=tweepy_creds[\"aws-secret-access-key\"]) # low-level client\n",
    "\n",
    "tweets = dynamodb.Table(\"tweets\")\n",
    "\n",
    "print(\"created dynamo client.\")"
   ]
  },
  {
   "attachments": {},
   "cell_type": "markdown",
   "metadata": {},
   "source": [
    "### get followers"
   ]
  },
  {
   "cell_type": "code",
   "execution_count": 3,
   "metadata": {},
   "outputs": [],
   "source": [
    "def get_followers(user):\n",
    "    following = []\n",
    "    friends_response = api.get_friends(screen_name = user, count = 100, cursor = -1)\n",
    "    following.extend([t.screen_name for t in friends_response[0]])\n",
    "    next_cursor = friends_response[1][1]\n",
    "    print(\"got most recent 100 following\")\n",
    "\n",
    "    while next_cursor != 0:\n",
    "        try:\n",
    "            friends_response = api.get_friends(screen_name = user, count = 100, cursor = next_cursor)\n",
    "            following.extend([t.screen_name for t in friends_response[0]])\n",
    "            next_cursor = friends_response[1][1]\n",
    "            print(\"got next 100 following\")\n",
    "        \n",
    "        except:\n",
    "            time.sleep(60*15)\n",
    "\n",
    "    return(following)"
   ]
  },
  {
   "cell_type": "code",
   "execution_count": 4,
   "metadata": {},
   "outputs": [
    {
     "name": "stdout",
     "output_type": "stream",
     "text": [
      "got most recent 100 following\n",
      "got next 100 following\n",
      "got next 100 following\n",
      "got next 100 following\n"
     ]
    }
   ],
   "source": [
    "my_following = get_followers(\"xanax_princess_\")"
   ]
  },
  {
   "cell_type": "code",
   "execution_count": 5,
   "metadata": {},
   "outputs": [
    {
     "name": "stdout",
     "output_type": "stream",
     "text": [
      "387\n"
     ]
    }
   ],
   "source": [
    "print(len(my_following))"
   ]
  },
  {
   "cell_type": "code",
   "execution_count": 6,
   "metadata": {},
   "outputs": [],
   "source": [
    "# test = api.user_timeline(screen_name = my_following[0], count = 25)"
   ]
  },
  {
   "cell_type": "code",
   "execution_count": 7,
   "metadata": {},
   "outputs": [],
   "source": [
    "# m = len(test)\n",
    "# test[m-1]._json[\"id\"]"
   ]
  },
  {
   "cell_type": "code",
   "execution_count": 13,
   "metadata": {},
   "outputs": [],
   "source": [
    "def batch_put_response(response, table):\n",
    "    with table.batch_writer(overwrite_by_pkeys=[\"user\", \"created_at\"]) as batch:\n",
    "        for r in response:\n",
    "            try:\n",
    "                batch.put_item(Item = {\n",
    "                    \"user\": r.user.screen_name,\n",
    "                    \"created_at\": r.created_at.strftime(\"%Y-%m-%dT%H:%M:%SZ\"),\n",
    "                    \"tweet\": r.text,\n",
    "                    \"id\": r.id,\n",
    "                    \"retweets\": r.retweet_count,\n",
    "                    \"favorites\": r.favorite_count,\n",
    "                    \"inserted_at\": dt.datetime.now().strftime(\"%Y-%m-%dT%H:%M:%SZ\")\n",
    "                })\n",
    "        \n",
    "            except ClientError as err:\n",
    "                print(\"Couldn't load data into table {}. Here's why: {}: {}\".format(table.name, err.response['Error']['Code'], err.response['Error']['Message']))\n",
    "                raise"
   ]
  },
  {
   "attachments": {},
   "cell_type": "markdown",
   "metadata": {},
   "source": [
    "### get tweets per user"
   ]
  },
  {
   "cell_type": "code",
   "execution_count": null,
   "metadata": {},
   "outputs": [],
   "source": [
    "def get_tweets(user, table):\n",
    "    print(\"scraping tweets for user: {}\".format(user))\n",
    "    timeline_response = api.user_timeline(screen_name = user, count = 25)\n",
    "    n = len(timeline_response)\n",
    "    last_id = timeline_response[n-1]._json[\"id\"]\n",
    "    i = 0\n",
    "\n",
    "    print(\"putting first batch\")\n",
    "    batch_put_response(timeline_response, table)\n",
    "    print(\"inserted first batch to dynamodb successfully.\")\n",
    "    i += 1\n",
    "\n",
    "    while i < 25:\n",
    "        try:\n",
    "            timeline_response = api.user_timeline(screen_name = user, count = 25, max_id = last_id)\n",
    "            n = len(timeline_response)\n",
    "            last_id = timeline_response[n-1]._json[\"id\"]\n",
    "\n",
    "            batch_put_response(timeline_response, table)\n",
    "            i += 1\n",
    "\n",
    "            if (i > 0 and (i % 5) == 0):\n",
    "                print(\"inserted batch {} to dynamodb successfully.\".format(i+1))\n",
    "    \n",
    "        except Exception as e:\n",
    "            print(e)\n",
    "            if \"429\" in str(e):\n",
    "                print(\"sleeping for 5 minutes\")\n",
    "                time.sleep(60*5)\n",
    "\n",
    "            else:\n",
    "                print(\"sleeping for a minute\")\n",
    "                time.sleep(60)"
   ]
  },
  {
   "cell_type": "code",
   "execution_count": 10,
   "metadata": {},
   "outputs": [],
   "source": [
    "# timeline_response = api.user_timeline(screen_name = my_following[0], count = 100)\n",
    "# timeline_response[0]._json"
   ]
  },
  {
   "attachments": {},
   "cell_type": "markdown",
   "metadata": {},
   "source": [
    "## get all tweets"
   ]
  },
  {
   "cell_type": "code",
   "execution_count": 15,
   "metadata": {},
   "outputs": [
    {
     "name": "stdout",
     "output_type": "stream",
     "text": [
      "scraping tweets for user: colborkmundus\n",
      "putting first batch\n",
      "inserted batch to dynamodb successfully.\n",
      "inserted batch to dynamodb successfully.\n",
      "inserted batch to dynamodb successfully.\n",
      "inserted batch to dynamodb successfully.\n",
      "inserted batch to dynamodb successfully.\n",
      "inserted batch to dynamodb successfully.\n",
      "inserted batch to dynamodb successfully.\n",
      "inserted batch to dynamodb successfully.\n",
      "inserted batch to dynamodb successfully.\n",
      "inserted batch to dynamodb successfully.\n",
      "inserted batch to dynamodb successfully.\n",
      "inserted batch to dynamodb successfully.\n",
      "inserted batch to dynamodb successfully.\n",
      "inserted batch to dynamodb successfully.\n",
      "inserted batch to dynamodb successfully.\n",
      "inserted batch to dynamodb successfully.\n",
      "inserted batch to dynamodb successfully.\n",
      "inserted batch to dynamodb successfully.\n",
      "inserted batch to dynamodb successfully.\n",
      "inserted batch to dynamodb successfully.\n",
      "inserted batch to dynamodb successfully.\n",
      "inserted batch to dynamodb successfully.\n",
      "inserted batch to dynamodb successfully.\n",
      "inserted batch to dynamodb successfully.\n",
      "inserted batch to dynamodb successfully.\n",
      "scraping tweets for user: dataandme\n",
      "putting first batch\n",
      "inserted batch to dynamodb successfully.\n",
      "inserted batch to dynamodb successfully.\n",
      "inserted batch to dynamodb successfully.\n",
      "inserted batch to dynamodb successfully.\n",
      "inserted batch to dynamodb successfully.\n",
      "inserted batch to dynamodb successfully.\n",
      "inserted batch to dynamodb successfully.\n",
      "inserted batch to dynamodb successfully.\n",
      "inserted batch to dynamodb successfully.\n",
      "inserted batch to dynamodb successfully.\n",
      "inserted batch to dynamodb successfully.\n",
      "inserted batch to dynamodb successfully.\n",
      "inserted batch to dynamodb successfully.\n",
      "inserted batch to dynamodb successfully.\n",
      "inserted batch to dynamodb successfully.\n",
      "inserted batch to dynamodb successfully.\n",
      "inserted batch to dynamodb successfully.\n",
      "inserted batch to dynamodb successfully.\n",
      "inserted batch to dynamodb successfully.\n",
      "inserted batch to dynamodb successfully.\n",
      "inserted batch to dynamodb successfully.\n",
      "inserted batch to dynamodb successfully.\n",
      "inserted batch to dynamodb successfully.\n",
      "inserted batch to dynamodb successfully.\n",
      "inserted batch to dynamodb successfully.\n",
      "scraping tweets for user: robinson_es\n",
      "putting first batch\n",
      "inserted batch to dynamodb successfully.\n",
      "inserted batch to dynamodb successfully.\n",
      "inserted batch to dynamodb successfully.\n",
      "inserted batch to dynamodb successfully.\n",
      "inserted batch to dynamodb successfully.\n",
      "inserted batch to dynamodb successfully.\n",
      "inserted batch to dynamodb successfully.\n",
      "inserted batch to dynamodb successfully.\n",
      "inserted batch to dynamodb successfully.\n",
      "inserted batch to dynamodb successfully.\n",
      "inserted batch to dynamodb successfully.\n",
      "inserted batch to dynamodb successfully.\n",
      "inserted batch to dynamodb successfully.\n",
      "inserted batch to dynamodb successfully.\n",
      "inserted batch to dynamodb successfully.\n",
      "inserted batch to dynamodb successfully.\n",
      "inserted batch to dynamodb successfully.\n"
     ]
    }
   ],
   "source": [
    "tweets = dynamodb.Table(\"tweets\")\n",
    "\n",
    "for f in my_following:\n",
    "    try:\n",
    "        output = get_tweets(f, tweets)\n",
    "        time.sleep(5)\n",
    "\n",
    "    except KeyboardInterrupt as k:\n",
    "        print(k)"
   ]
  },
  {
   "cell_type": "code",
   "execution_count": 11,
   "metadata": {},
   "outputs": [],
   "source": [
    "response = tweets.scan()\n",
    "# response"
   ]
  },
  {
   "cell_type": "code",
   "execution_count": 12,
   "metadata": {},
   "outputs": [
    {
     "name": "stdout",
     "output_type": "stream",
     "text": [
      "{\n",
      "    \"Table\": {\n",
      "        \"AttributeDefinitions\": [\n",
      "            {\n",
      "                \"AttributeName\": \"user\",\n",
      "                \"AttributeType\": \"S\"\n",
      "            },\n",
      "            {\n",
      "                \"AttributeName\": \"created_at\",\n",
      "                \"AttributeType\": \"S\"\n",
      "            }\n",
      "        ],\n",
      "        \"TableName\": \"tweets\",\n",
      "        \"KeySchema\": [\n",
      "            {\n",
      "                \"AttributeName\": \"user\",\n",
      "                \"KeyType\": \"HASH\"\n",
      "            },\n",
      "            {\n",
      "                \"AttributeName\": \"created_at\",\n",
      "                \"KeyType\": \"RANGE\"\n",
      "            }\n",
      "        ],\n",
      "        \"TableStatus\": \"ACTIVE\",\n",
      "        \"CreationDateTime\": 1674535588.165,\n",
      "        \"ProvisionedThroughput\": {\n",
      "            \"LastIncreaseDateTime\": 0.0,\n",
      "            \"LastDecreaseDateTime\": 0.0,\n",
      "            \"NumberOfDecreasesToday\": 0,\n",
      "            \"ReadCapacityUnits\": 10,\n",
      "            \"WriteCapacityUnits\": 10\n",
      "        },\n",
      "        \"TableSizeBytes\": 60390,\n",
      "        \"ItemCount\": 290,\n",
      "        \"TableArn\": \"arn:aws:dynamodb:ddblocal:000000000000:table/tweets\"\n",
      "    }\n",
      "}\n"
     ]
    }
   ],
   "source": [
    "! aws dynamodb describe-table --table-name \"tweets\" --endpoint-url http://xanaxprincess.asuscomm.com:8001"
   ]
  },
  {
   "cell_type": "code",
   "execution_count": null,
   "metadata": {},
   "outputs": [],
   "source": []
  }
 ],
 "metadata": {
  "kernelspec": {
   "display_name": "twitter.ai",
   "language": "python",
   "name": "twitter.ai"
  },
  "language_info": {
   "codemirror_mode": {
    "name": "ipython",
    "version": 3
   },
   "file_extension": ".py",
   "mimetype": "text/x-python",
   "name": "python",
   "nbconvert_exporter": "python",
   "pygments_lexer": "ipython3",
   "version": "3.8.10"
  },
  "vscode": {
   "interpreter": {
    "hash": "55254a09b27e21896d77b069f7c5daccd61a03baf7db689fe62bada468b7bdce"
   }
  }
 },
 "nbformat": 4,
 "nbformat_minor": 4
}

{
 "cells": [
  {
   "attachments": {},
   "cell_type": "markdown",
   "metadata": {},
   "source": [
    "# dynamo db - create table"
   ]
  },
  {
   "cell_type": "code",
   "execution_count": 1,
   "metadata": {},
   "outputs": [
    {
     "name": "stdout",
     "output_type": "stream",
     "text": [
      "imported modules.\n"
     ]
    }
   ],
   "source": [
    "import os\n",
    "import json\n",
    "import time\n",
    "import boto3\n",
    "import tweepy\n",
    "import pprint\n",
    "import datetime\n",
    "import numpy as np\n",
    "import pandas as pd\n",
    "import botocore.session\n",
    "from boto3.dynamodb.conditions import Key, Attr\n",
    "\n",
    "with open(\"../creds.json\", \"r\") as f:\n",
    "    creds = json.load(f)\n",
    "    f.close()\n",
    "    \n",
    "print(\"imported modules.\")"
   ]
  },
  {
   "attachments": {},
   "cell_type": "markdown",
   "metadata": {},
   "source": [
    "## dynamodb client"
   ]
  },
  {
   "cell_type": "code",
   "execution_count": 2,
   "metadata": {},
   "outputs": [
    {
     "name": "stdout",
     "output_type": "stream",
     "text": [
      "created dynamo client.\n"
     ]
    }
   ],
   "source": [
    "client = boto3.client('dynamodb',\n",
    "  endpoint_url = \"http://localhost:8000\",\n",
    "  aws_access_key_id=creds[\"aws-access-key\"],\n",
    "  aws_secret_access_key=creds[\"aws-secret-key\"],\n",
    "  region_name='us-east-2')\n",
    "\n",
    "dynamodb = boto3.resource('dynamodb', \\\n",
    "            endpoint_url = \"http://localhost:8000\", \\\n",
    "            region_name='us-east-2')\n",
    "\n",
    "print(\"created dynamo client.\")"
   ]
  },
  {
   "attachments": {},
   "cell_type": "markdown",
   "metadata": {},
   "source": [
    "## create dynamo table"
   ]
  },
  {
   "cell_type": "code",
   "execution_count": 3,
   "metadata": {},
   "outputs": [
    {
     "name": "stdout",
     "output_type": "stream",
     "text": [
      "Table status: ACTIVE\n"
     ]
    }
   ],
   "source": [
    "table = dynamodb.create_table(\n",
    "    TableName='tweets',\n",
    "    KeySchema=[\n",
    "        {\n",
    "            'AttributeName': 'user',\n",
    "            'KeyType': 'HASH'  #Partition key\n",
    "        },\n",
    "        {\n",
    "            'AttributeName': 'created_at',\n",
    "            'KeyType': 'RANGE'  #Sort key\n",
    "        }\n",
    "    ],\n",
    "    AttributeDefinitions=[\n",
    "        {\n",
    "            'AttributeName': 'user',\n",
    "            'AttributeType': 'S'\n",
    "        },\n",
    "        {\n",
    "            'AttributeName': 'created_at',\n",
    "            'AttributeType': 'S'\n",
    "        }\n",
    "\n",
    "    ],\n",
    "    ProvisionedThroughput={\n",
    "        'ReadCapacityUnits': 10,\n",
    "        'WriteCapacityUnits': 10\n",
    "    }\n",
    ")\n",
    "\n",
    "print(\"Table status:\", table.table_status)"
   ]
  },
  {
   "attachments": {},
   "cell_type": "markdown",
   "metadata": {},
   "source": [
    "## wait for table creation"
   ]
  },
  {
   "cell_type": "code",
   "execution_count": 4,
   "metadata": {},
   "outputs": [],
   "source": [
    "session = botocore.session.get_session()\n",
    "dynamodb_session = session.create_client('dynamodb', \\\n",
    "                    region_name='us-east-2',\n",
    "                    endpoint_url = \"http://localhost:8000\",\n",
    "                    aws_access_key_id=creds[\"aws-access-key\"],\n",
    "                    aws_secret_access_key=creds[\"aws-secret-key\"]) # low-level client\n",
    "\n",
    "waiter = dynamodb_session.get_waiter('table_exists')\n",
    "waiter.wait(TableName=\"tweets\")"
   ]
  },
  {
   "attachments": {},
   "cell_type": "markdown",
   "metadata": {},
   "source": [
    "## scan tweets table"
   ]
  },
  {
   "cell_type": "code",
   "execution_count": 5,
   "metadata": {},
   "outputs": [],
   "source": [
    "tweets = dynamodb.Table(\"tweets\")\n",
    "\n",
    "response = tweets.scan()"
   ]
  },
  {
   "cell_type": "code",
   "execution_count": 6,
   "metadata": {},
   "outputs": [
    {
     "data": {
      "text/plain": [
       "{'Items': [],\n",
       " 'Count': 0,\n",
       " 'ScannedCount': 0,\n",
       " 'ResponseMetadata': {'RequestId': '54b7d198-6192-4fae-9681-7a1b222bcd29',\n",
       "  'HTTPStatusCode': 200,\n",
       "  'HTTPHeaders': {'date': 'Thu, 27 Apr 2023 17:03:05 GMT',\n",
       "   'content-type': 'application/x-amz-json-1.0',\n",
       "   'x-amz-crc32': '583912891',\n",
       "   'x-amzn-requestid': '54b7d198-6192-4fae-9681-7a1b222bcd29',\n",
       "   'content-length': '39',\n",
       "   'server': 'Jetty(9.4.48.v20220622)'},\n",
       "  'RetryAttempts': 0}}"
      ]
     },
     "execution_count": 6,
     "metadata": {},
     "output_type": "execute_result"
    }
   ],
   "source": [
    "response"
   ]
  },
  {
   "cell_type": "code",
   "execution_count": 7,
   "metadata": {
    "vscode": {
     "languageId": "shellscript"
    }
   },
   "outputs": [
    {
     "name": "stdout",
     "output_type": "stream",
     "text": [
      "{\n",
      "    \"TableNames\": [\n",
      "        \"tweets\"\n",
      "    ]\n",
      "}\n"
     ]
    }
   ],
   "source": [
    "! aws dynamodb list-tables --endpoint-url http://localhost:8000"
   ]
  },
  {
   "cell_type": "code",
   "execution_count": 8,
   "metadata": {
    "vscode": {
     "languageId": "shellscript"
    }
   },
   "outputs": [
    {
     "name": "stdout",
     "output_type": "stream",
     "text": [
      "{\n",
      "    \"Table\": {\n",
      "        \"AttributeDefinitions\": [\n",
      "            {\n",
      "                \"AttributeName\": \"user\",\n",
      "                \"AttributeType\": \"S\"\n",
      "            },\n",
      "            {\n",
      "                \"AttributeName\": \"created_at\",\n",
      "                \"AttributeType\": \"S\"\n",
      "            }\n",
      "        ],\n",
      "        \"TableName\": \"tweets\",\n",
      "        \"KeySchema\": [\n",
      "            {\n",
      "                \"AttributeName\": \"user\",\n",
      "                \"KeyType\": \"HASH\"\n",
      "            },\n",
      "            {\n",
      "                \"AttributeName\": \"created_at\",\n",
      "                \"KeyType\": \"RANGE\"\n",
      "            }\n",
      "        ],\n",
      "        \"TableStatus\": \"ACTIVE\",\n",
      "        \"CreationDateTime\": 1682614972.944,\n",
      "        \"ProvisionedThroughput\": {\n",
      "            \"LastIncreaseDateTime\": 0.0,\n",
      "            \"LastDecreaseDateTime\": 0.0,\n",
      "            \"NumberOfDecreasesToday\": 0,\n",
      "            \"ReadCapacityUnits\": 10,\n",
      "            \"WriteCapacityUnits\": 10\n",
      "        },\n",
      "        \"TableSizeBytes\": 0,\n",
      "        \"ItemCount\": 0,\n",
      "        \"TableArn\": \"arn:aws:dynamodb:ddblocal:000000000000:table/tweets\"\n",
      "    }\n",
      "}\n"
     ]
    }
   ],
   "source": [
    "! aws dynamodb describe-table --table-name \"tweets\" --endpoint-url http://localhost:8000"
   ]
  },
  {
   "cell_type": "code",
   "execution_count": null,
   "metadata": {
    "vscode": {
     "languageId": "shellscript"
    }
   },
   "outputs": [],
   "source": []
  }
 ],
 "metadata": {
  "kernelspec": {
   "display_name": "Python 3.8.10 ('twitter.ai': venv)",
   "language": "python",
   "name": "python3"
  },
  "language_info": {
   "codemirror_mode": {
    "name": "ipython",
    "version": 3
   },
   "file_extension": ".py",
   "mimetype": "text/x-python",
   "name": "python",
   "nbconvert_exporter": "python",
   "pygments_lexer": "ipython3",
   "version": "3.8.10"
  },
  "orig_nbformat": 4,
  "vscode": {
   "interpreter": {
    "hash": "9fdfdcce63ceaadbeb65c1751df9522a6807feac2991dadc56a1ff5ec22d266a"
   }
  }
 },
 "nbformat": 4,
 "nbformat_minor": 2
}

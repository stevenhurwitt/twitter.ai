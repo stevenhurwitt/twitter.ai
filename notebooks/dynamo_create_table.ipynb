{
 "cells": [
  {
   "attachments": {},
   "cell_type": "markdown",
   "metadata": {},
   "source": [
    "# dynamo db - create table"
   ]
  },
  {
   "cell_type": "code",
   "execution_count": 1,
   "metadata": {},
   "outputs": [
    {
     "ename": "ModuleNotFoundError",
     "evalue": "No module named 'boto3'",
     "output_type": "error",
     "traceback": [
      "\u001b[0;31m---------------------------------------------------------------------------\u001b[0m",
      "\u001b[0;31mModuleNotFoundError\u001b[0m                       Traceback (most recent call last)",
      "\u001b[0;32m<ipython-input-1-8b28ef64c72c>\u001b[0m in \u001b[0;36m<module>\u001b[0;34m\u001b[0m\n\u001b[1;32m      2\u001b[0m \u001b[0;32mimport\u001b[0m \u001b[0mjson\u001b[0m\u001b[0;34m\u001b[0m\u001b[0;34m\u001b[0m\u001b[0m\n\u001b[1;32m      3\u001b[0m \u001b[0;32mimport\u001b[0m \u001b[0mtime\u001b[0m\u001b[0;34m\u001b[0m\u001b[0;34m\u001b[0m\u001b[0m\n\u001b[0;32m----> 4\u001b[0;31m \u001b[0;32mimport\u001b[0m \u001b[0mboto3\u001b[0m\u001b[0;34m\u001b[0m\u001b[0;34m\u001b[0m\u001b[0m\n\u001b[0m\u001b[1;32m      5\u001b[0m \u001b[0;32mimport\u001b[0m \u001b[0mtweepy\u001b[0m\u001b[0;34m\u001b[0m\u001b[0;34m\u001b[0m\u001b[0m\n\u001b[1;32m      6\u001b[0m \u001b[0;32mimport\u001b[0m \u001b[0mpprint\u001b[0m\u001b[0;34m\u001b[0m\u001b[0;34m\u001b[0m\u001b[0m\n",
      "\u001b[0;31mModuleNotFoundError\u001b[0m: No module named 'boto3'"
     ]
    }
   ],
   "source": [
    "import os\n",
    "import json\n",
    "import time\n",
    "import boto3\n",
    "import tweepy\n",
    "import pprint\n",
    "import datetime\n",
    "import numpy as np\n",
    "import pandas as pd\n",
    "import botocore.session\n",
    "from boto3.dynamodb.conditions import Key, Attr\n",
    "\n",
    "with open(\"../creds.json\", \"r\") as f:\n",
    "    creds = json.load(f)\n",
    "    f.close()\n",
    "    \n",
    "print(\"imported modules.\")"
   ]
  },
  {
   "attachments": {},
   "cell_type": "markdown",
   "metadata": {},
   "source": [
    "## dynamodb client"
   ]
  },
  {
   "cell_type": "code",
   "execution_count": 4,
   "metadata": {},
   "outputs": [
    {
     "name": "stdout",
     "output_type": "stream",
     "text": [
      "created dynamo client.\n"
     ]
    }
   ],
   "source": [
    "client = boto3.client('dynamodb',\n",
    "  endpoint_url = \"http://xanaxprincess.asuscomm.com:8001\",\n",
    "  aws_access_key_id=creds[\"aws-access-key\"],\n",
    "  aws_secret_access_key=creds[\"aws-secret-access-key\"],\n",
    "  region_name='us-east-2')\n",
    "\n",
    "dynamodb = boto3.resource('dynamodb', \\\n",
    "            endpoint_url = \"http://xanaxprincess.asuscomm.com:8001\", \\\n",
    "            region_name='us-east-2')\n",
    "\n",
    "print(\"created dynamo client.\")"
   ]
  },
  {
   "attachments": {},
   "cell_type": "markdown",
   "metadata": {},
   "source": [
    "## create dynamo table"
   ]
  },
  {
   "cell_type": "code",
   "execution_count": 15,
   "metadata": {},
   "outputs": [
    {
     "name": "stdout",
     "output_type": "stream",
     "text": [
      "Table status: ACTIVE\n"
     ]
    }
   ],
   "source": [
    "table = dynamodb.create_table(\n",
    "    TableName='tweets',\n",
    "    KeySchema=[\n",
    "        {\n",
    "            'AttributeName': 'user',\n",
    "            'KeyType': 'HASH'  #Partition key\n",
    "        },\n",
    "        {\n",
    "            'AttributeName': 'created_at',\n",
    "            'KeyType': 'RANGE'  #Sort key\n",
    "        }\n",
    "    ],\n",
    "    AttributeDefinitions=[\n",
    "        {\n",
    "            'AttributeName': 'user',\n",
    "            'AttributeType': 'S'\n",
    "        },\n",
    "        {\n",
    "            'AttributeName': 'created_at',\n",
    "            'AttributeType': 'S'\n",
    "        }\n",
    "\n",
    "    ],\n",
    "    ProvisionedThroughput={\n",
    "        'ReadCapacityUnits': 10,\n",
    "        'WriteCapacityUnits': 10\n",
    "    }\n",
    ")\n",
    "\n",
    "print(\"Table status:\", table.table_status)"
   ]
  },
  {
   "attachments": {},
   "cell_type": "markdown",
   "metadata": {},
   "source": [
    "## wait for table creation"
   ]
  },
  {
   "cell_type": "code",
   "execution_count": 18,
   "metadata": {},
   "outputs": [],
   "source": [
    "session = botocore.session.get_session()\n",
    "dynamodb_session = session.create_client('dynamodb', \\\n",
    "                    region_name='us-east-2',\n",
    "                    endpoint_url = \"http://xanaxprincess.asuscomm.com:8001\",\n",
    "                    aws_access_key_id=creds[\"aws-access-key\"],\n",
    "                    aws_secret_access_key=creds[\"aws-secret-access-key\"]) # low-level client\n",
    "\n",
    "waiter = dynamodb_session.get_waiter('table_exists')\n",
    "waiter.wait(TableName=\"tweets\")"
   ]
  },
  {
   "attachments": {},
   "cell_type": "markdown",
   "metadata": {},
   "source": [
    "## scan tweets table"
   ]
  },
  {
   "cell_type": "code",
   "execution_count": 13,
   "metadata": {},
   "outputs": [],
   "source": [
    "tweets = dynamodb.Table(\"tweets\")\n",
    "\n",
    "response = tweets.scan()"
   ]
  },
  {
   "cell_type": "code",
   "execution_count": 15,
   "metadata": {},
   "outputs": [
    {
     "data": {
      "text/plain": [
       "{'Items': [{'favorites': Decimal('3'),\n",
       "   'created_at': '2023-01-24T18:09:56Z',\n",
       "   'tweet': '16 years \\U0001fae0 https://t.co/pmXRoXOdWz',\n",
       "   'id': Decimal('1617947826671190017'),\n",
       "   'retweets': Decimal('0'),\n",
       "   'user': 'colborkmundus'},\n",
       "  {'favorites': Decimal('1'),\n",
       "   'created_at': '2023-01-24T18:23:49Z',\n",
       "   'tweet': '16 years, noooooooo https://t.co/8poAs8c6dr',\n",
       "   'id': Decimal('1617951319050039299'),\n",
       "   'retweets': Decimal('0'),\n",
       "   'user': 'colborkmundus'},\n",
       "  {'favorites': Decimal('4'),\n",
       "   'created_at': '2023-01-24T19:51:02Z',\n",
       "   'tweet': 'gosh this stupid hellsite (affectionate) is my favorite bar and all and i love doing shitpost jello shots with the… https://t.co/2PP4R0jnJC',\n",
       "   'id': Decimal('1617973267859673088'),\n",
       "   'retweets': Decimal('0'),\n",
       "   'user': 'colborkmundus'},\n",
       "  {'favorites': Decimal('0'),\n",
       "   'created_at': '2023-01-24T23:56:36Z',\n",
       "   'tweet': 'RT @non_bunnary: @FizzyDog_ The address for her website is .gay\\n\\nIt’s very important and I think we shouldn’t forget it',\n",
       "   'id': Decimal('1618035070065082368'),\n",
       "   'retweets': Decimal('2'),\n",
       "   'user': 'colborkmundus'},\n",
       "  {'favorites': Decimal('0'),\n",
       "   'created_at': '2023-01-24T23:57:05Z',\n",
       "   'tweet': 'RT @alex_abads: absolutely craven to publish this headline after the murders in monterey park https://t.co/Soes0F00fX',\n",
       "   'id': Decimal('1618035191607595008'),\n",
       "   'retweets': Decimal('3505'),\n",
       "   'user': 'colborkmundus'},\n",
       "  {'favorites': Decimal('0'),\n",
       "   'created_at': '2023-01-24T23:58:15Z',\n",
       "   'tweet': 'RT @ElleArmageddon: If I were drafting a public-facing statement about mass layoffs at my company, I would probably abstain from including…',\n",
       "   'id': Decimal('1618035483237572608'),\n",
       "   'retweets': Decimal('11'),\n",
       "   'user': 'colborkmundus'},\n",
       "  {'favorites': Decimal('0'),\n",
       "   'created_at': '2023-01-25T00:00:32Z',\n",
       "   'tweet': \"RT @Dixie3Flatline: Honestly gobsmacked, it's grotesque.\\n\\nhttps://t.co/mnrQ8CBgzo\",\n",
       "   'id': Decimal('1618036055814606848'),\n",
       "   'retweets': Decimal('12'),\n",
       "   'user': 'colborkmundus'},\n",
       "  {'favorites': Decimal('0'),\n",
       "   'created_at': '2023-01-25T00:09:01Z',\n",
       "   'tweet': 'RT @ElleArmageddon: @timcheadle “Good leadership is cutting off people’s livelihoods to bolster share price, even though it might feel kind…',\n",
       "   'id': Decimal('1618038192749572096'),\n",
       "   'retweets': Decimal('1'),\n",
       "   'user': 'colborkmundus'},\n",
       "  {'favorites': Decimal('0'),\n",
       "   'created_at': '2023-01-25T00:09:38Z',\n",
       "   'tweet': 'RT @Dixie3Flatline: Like, I realize leadership is almost never going to actually take responsibility for layoffs, but at least have enough…',\n",
       "   'id': Decimal('1618038346516946946'),\n",
       "   'retweets': Decimal('5'),\n",
       "   'user': 'colborkmundus'},\n",
       "  {'favorites': Decimal('0'),\n",
       "   'created_at': '2023-01-25T00:10:19Z',\n",
       "   'tweet': 'RT @xanax_princess_: @Dixie3Flatline wow they straight up said “to protect shareholder returns” in it',\n",
       "   'id': Decimal('1618038520349863936'),\n",
       "   'retweets': Decimal('1'),\n",
       "   'user': 'colborkmundus'},\n",
       "  {'favorites': Decimal('2'),\n",
       "   'created_at': '2023-01-25T00:15:02Z',\n",
       "   'tweet': '@ScoopsStP idk i’d try it but then again i am raccoon',\n",
       "   'id': Decimal('1618039707082035200'),\n",
       "   'retweets': Decimal('0'),\n",
       "   'user': 'colborkmundus'},\n",
       "  {'favorites': Decimal('1'),\n",
       "   'created_at': '2023-01-25T00:15:11Z',\n",
       "   'tweet': '@ScoopsStP will report back if i do',\n",
       "   'id': Decimal('1618039744939831298'),\n",
       "   'retweets': Decimal('0'),\n",
       "   'user': 'colborkmundus'},\n",
       "  {'favorites': Decimal('0'),\n",
       "   'created_at': '2023-01-25T00:15:32Z',\n",
       "   'tweet': 'RT @ScoopsStP: God has abandoned us',\n",
       "   'id': Decimal('1618039831023734786'),\n",
       "   'retweets': Decimal('1'),\n",
       "   'user': 'colborkmundus'},\n",
       "  {'favorites': Decimal('0'),\n",
       "   'created_at': '2023-01-25T00:16:19Z',\n",
       "   'tweet': 'RT @evacide: Not gonna lie, I have advocated for turning on 2FA for everyone all the time in many circumstances. But here is one where it d…',\n",
       "   'id': Decimal('1618040028298633217'),\n",
       "   'retweets': Decimal('44'),\n",
       "   'user': 'colborkmundus'},\n",
       "  {'favorites': Decimal('0'),\n",
       "   'created_at': '2023-01-25T00:21:45Z',\n",
       "   'tweet': 'best, [most work scenarios]\\nsent from my pwnbox [sent in an email today, chaotic neutral]\\nregards, [office passive… https://t.co/ucOfaNx6IJ',\n",
       "   'id': Decimal('1618041397302677510'),\n",
       "   'retweets': Decimal('0'),\n",
       "   'user': 'colborkmundus'},\n",
       "  {'favorites': Decimal('0'),\n",
       "   'created_at': '2023-01-25T00:23:21Z',\n",
       "   'tweet': '@threadmancer omg this is the mousepad!!!! AHHHHH',\n",
       "   'id': Decimal('1618041800568221696'),\n",
       "   'retweets': Decimal('0'),\n",
       "   'user': 'colborkmundus'},\n",
       "  {'favorites': Decimal('0'),\n",
       "   'created_at': '2023-01-25T00:23:27Z',\n",
       "   'tweet': 'RT @threadmancer: https://t.co/0NSzJyH9Lr\\nHere he is! #Nightwing mousepad pre-orders are open! The first batch is expected at the end of Ma…',\n",
       "   'id': Decimal('1618041823192313857'),\n",
       "   'retweets': Decimal('5'),\n",
       "   'user': 'colborkmundus'},\n",
       "  {'favorites': Decimal('0'),\n",
       "   'created_at': '2023-01-25T00:27:06Z',\n",
       "   'tweet': 'RT @AndrewFleer: @kvlly Finally, I can email people about their car warranties!',\n",
       "   'id': Decimal('1618042745142251520'),\n",
       "   'retweets': Decimal('1'),\n",
       "   'user': 'colborkmundus'},\n",
       "  {'favorites': Decimal('0'),\n",
       "   'created_at': '2023-01-25T00:29:38Z',\n",
       "   'tweet': 'RT @_breeeeen_: @slime_succubus My first thought after “holy shit that is badass” was “wait, why is it being so public about this?”',\n",
       "   'id': Decimal('1618043381946658817'),\n",
       "   'retweets': Decimal('2'),\n",
       "   'user': 'colborkmundus'},\n",
       "  {'favorites': Decimal('1'),\n",
       "   'created_at': '2023-01-25T00:34:39Z',\n",
       "   'tweet': '@SilentUK @ScoopsStP https://t.co/UjucBVGJWt',\n",
       "   'id': Decimal('1618044642565689352'),\n",
       "   'retweets': Decimal('0'),\n",
       "   'user': 'colborkmundus'},\n",
       "  {'favorites': Decimal('0'),\n",
       "   'created_at': '2023-01-25T00:37:13Z',\n",
       "   'tweet': \"RT @eliomen: Note to self (and twitter); take more photos with friends, they don't have to be good photos, they are memories.\\n\\nHand your ph…\",\n",
       "   'id': Decimal('1618045289503547392'),\n",
       "   'retweets': Decimal('11'),\n",
       "   'user': 'colborkmundus'},\n",
       "  {'favorites': Decimal('1'),\n",
       "   'created_at': '2023-01-25T00:45:51Z',\n",
       "   'tweet': 'no words https://t.co/W2eC3wEVUS',\n",
       "   'id': Decimal('1618047461532237824'),\n",
       "   'retweets': Decimal('0'),\n",
       "   'user': 'colborkmundus'},\n",
       "  {'favorites': Decimal('0'),\n",
       "   'created_at': '2023-01-25T02:58:23Z',\n",
       "   'tweet': 'RT @primediscussion: One of my team members just asked if we “heard about how oxtail isn’t good for you” and I have to say bravo to Twitter…',\n",
       "   'id': Decimal('1618080816353136641'),\n",
       "   'retweets': Decimal('5538'),\n",
       "   'user': 'colborkmundus'},\n",
       "  {'favorites': Decimal('0'),\n",
       "   'created_at': '2023-01-25T02:58:25Z',\n",
       "   'tweet': 'RT @LUCKYCHARM727: @primediscussion You eat it, u getting the Pfizer shakes. It’s irresponsible journalism not to inform the masses.',\n",
       "   'id': Decimal('1618080821688303617'),\n",
       "   'retweets': Decimal('124'),\n",
       "   'user': 'colborkmundus'},\n",
       "  {'favorites': Decimal('0'),\n",
       "   'created_at': '2023-01-25T03:02:55Z',\n",
       "   'tweet': \"RT @literalrrrats: rick and morty continuing without justin roiland, panic at the disco 'disbanding' this is the worst day ever for the 36…\",\n",
       "   'id': Decimal('1618081956763414528'),\n",
       "   'retweets': Decimal('1268'),\n",
       "   'user': 'colborkmundus'}],\n",
       " 'Count': 25,\n",
       " 'ScannedCount': 25,\n",
       " 'ResponseMetadata': {'RequestId': '75bc564a-51cd-4fe0-ad81-a168b5d692db',\n",
       "  'HTTPStatusCode': 200,\n",
       "  'HTTPHeaders': {'date': 'Wed, 25 Jan 2023 03:49:53 GMT',\n",
       "   'content-type': 'application/x-amz-json-1.0',\n",
       "   'x-amz-crc32': '1297990877',\n",
       "   'x-amzn-requestid': '75bc564a-51cd-4fe0-ad81-a168b5d692db',\n",
       "   'content-length': '6755',\n",
       "   'server': 'Jetty(9.4.48.v20220622)'},\n",
       "  'RetryAttempts': 0}}"
      ]
     },
     "execution_count": 15,
     "metadata": {},
     "output_type": "execute_result"
    }
   ],
   "source": [
    "response"
   ]
  },
  {
   "cell_type": "code",
   "execution_count": 16,
   "metadata": {
    "vscode": {
     "languageId": "shellscript"
    }
   },
   "outputs": [
    {
     "name": "stdout",
     "output_type": "stream",
     "text": [
      "{\n",
      "    \"TableNames\": [\n",
      "        \"tweets\"\n",
      "    ]\n",
      "}\n"
     ]
    }
   ],
   "source": [
    "! aws dynamodb list-tables --endpoint-url http://xanaxprincess.asuscomm.com:8001"
   ]
  },
  {
   "cell_type": "code",
   "execution_count": 18,
   "metadata": {
    "vscode": {
     "languageId": "shellscript"
    }
   },
   "outputs": [
    {
     "name": "stdout",
     "output_type": "stream",
     "text": [
      "{\n",
      "    \"Table\": {\n",
      "        \"AttributeDefinitions\": [\n",
      "            {\n",
      "                \"AttributeName\": \"user\",\n",
      "                \"AttributeType\": \"S\"\n",
      "            },\n",
      "            {\n",
      "                \"AttributeName\": \"created_at\",\n",
      "                \"AttributeType\": \"S\"\n",
      "            }\n",
      "        ],\n",
      "        \"TableName\": \"tweets\",\n",
      "        \"KeySchema\": [\n",
      "            {\n",
      "                \"AttributeName\": \"user\",\n",
      "                \"KeyType\": \"HASH\"\n",
      "            },\n",
      "            {\n",
      "                \"AttributeName\": \"created_at\",\n",
      "                \"KeyType\": \"RANGE\"\n",
      "            }\n",
      "        ],\n",
      "        \"TableStatus\": \"ACTIVE\",\n",
      "        \"CreationDateTime\": 1674535588.165,\n",
      "        \"ProvisionedThroughput\": {\n",
      "            \"LastIncreaseDateTime\": 0.0,\n",
      "            \"LastDecreaseDateTime\": 0.0,\n",
      "            \"NumberOfDecreasesToday\": 0,\n",
      "            \"ReadCapacityUnits\": 10,\n",
      "            \"WriteCapacityUnits\": 10\n",
      "        },\n",
      "        \"TableSizeBytes\": 105779,\n",
      "        \"ItemCount\": 508,\n",
      "        \"TableArn\": \"arn:aws:dynamodb:ddblocal:000000000000:table/tweets\"\n",
      "    }\n",
      "}\n"
     ]
    }
   ],
   "source": [
    "! aws dynamodb describe-table --table-name \"tweets\" --endpoint-url http://xanaxprincess.asuscomm.com:8001"
   ]
  },
  {
   "cell_type": "code",
   "execution_count": null,
   "metadata": {
    "vscode": {
     "languageId": "shellscript"
    }
   },
   "outputs": [],
   "source": []
  }
 ],
 "metadata": {
  "kernelspec": {
   "display_name": "Python 3.7.7 ('twitter.ai')",
   "language": "python",
   "name": "python3"
  },
  "language_info": {
   "codemirror_mode": {
    "name": "ipython",
    "version": 3
   },
   "file_extension": ".py",
   "mimetype": "text/x-python",
   "name": "python",
   "nbconvert_exporter": "python",
   "pygments_lexer": "ipython3",
   "version": "3.7.7"
  },
  "orig_nbformat": 4,
  "vscode": {
   "interpreter": {
    "hash": "00b3d0974f83c6690a2d83873cf110401909e252dc8273f54793095ab9779ce6"
   }
  }
 },
 "nbformat": 4,
 "nbformat_minor": 2
}

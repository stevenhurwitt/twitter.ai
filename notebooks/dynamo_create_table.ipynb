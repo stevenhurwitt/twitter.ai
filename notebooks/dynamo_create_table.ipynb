{
 "cells": [
  {
   "attachments": {},
   "cell_type": "markdown",
   "metadata": {},
   "source": [
    "# dynamo db - create table"
   ]
  },
  {
   "cell_type": "code",
   "execution_count": 1,
   "metadata": {},
   "outputs": [
    {
     "name": "stdout",
     "output_type": "stream",
     "text": [
      "imported modules.\n"
     ]
    }
   ],
   "source": [
    "import os\n",
    "import json\n",
    "import time\n",
    "import boto3\n",
    "import tweepy\n",
    "import pprint\n",
    "import datetime\n",
    "import numpy as np\n",
    "import pandas as pd\n",
    "import botocore.session\n",
    "from boto3.dynamodb.conditions import Key, Attr\n",
    "\n",
    "with open(\"../creds.json\", \"r\") as f:\n",
    "    creds = json.load(f)\n",
    "    f.close()\n",
    "    \n",
    "print(\"imported modules.\")"
   ]
  },
  {
   "attachments": {},
   "cell_type": "markdown",
   "metadata": {},
   "source": [
    "## dynamodb client"
   ]
  },
  {
   "cell_type": "code",
   "execution_count": 2,
   "metadata": {},
   "outputs": [
    {
     "name": "stdout",
     "output_type": "stream",
     "text": [
      "created dynamo client.\n"
     ]
    }
   ],
   "source": [
    "client = boto3.client('dynamodb',\n",
    "  endpoint_url = \"http://192.168.50.114:8000\",\n",
    "  aws_access_key_id=creds[\"aws-access-key\"],\n",
    "  aws_secret_access_key=creds[\"aws-secret-access-key\"],\n",
    "  region_name='us-east-2')\n",
    "\n",
    "dynamodb = boto3.resource('dynamodb', \\\n",
    "            endpoint_url = \"http://192.168.50.114:8000\", \\\n",
    "            region_name='us-east-2')\n",
    "\n",
    "print(\"created dynamo client.\")"
   ]
  },
  {
   "attachments": {},
   "cell_type": "markdown",
   "metadata": {},
   "source": [
    "## create dynamo table"
   ]
  },
  {
   "cell_type": "code",
   "execution_count": 3,
   "metadata": {},
   "outputs": [
    {
     "name": "stdout",
     "output_type": "stream",
     "text": [
      "Table status: ACTIVE\n"
     ]
    }
   ],
   "source": [
    "table = dynamodb.create_table(\n",
    "    TableName='tweets',\n",
    "    KeySchema=[\n",
    "        {\n",
    "            'AttributeName': 'user',\n",
    "            'KeyType': 'HASH'  #Partition key\n",
    "        },\n",
    "        {\n",
    "            'AttributeName': 'created_at',\n",
    "            'KeyType': 'RANGE'  #Sort key\n",
    "        }\n",
    "    ],\n",
    "    AttributeDefinitions=[\n",
    "        {\n",
    "            'AttributeName': 'user',\n",
    "            'AttributeType': 'S'\n",
    "        },\n",
    "        {\n",
    "            'AttributeName': 'created_at',\n",
    "            'AttributeType': 'S'\n",
    "        }\n",
    "\n",
    "    ],\n",
    "    ProvisionedThroughput={\n",
    "        'ReadCapacityUnits': 10,\n",
    "        'WriteCapacityUnits': 10\n",
    "    }\n",
    ")\n",
    "\n",
    "print(\"Table status:\", table.table_status)"
   ]
  },
  {
   "attachments": {},
   "cell_type": "markdown",
   "metadata": {},
   "source": [
    "## wait for table creation"
   ]
  },
  {
   "cell_type": "code",
   "execution_count": 4,
   "metadata": {},
   "outputs": [
    {
     "ename": "KeyboardInterrupt",
     "evalue": "",
     "output_type": "error",
     "traceback": [
      "\u001b[0;31m---------------------------------------------------------------------------\u001b[0m",
      "\u001b[0;31mKeyboardInterrupt\u001b[0m                         Traceback (most recent call last)",
      "Cell \u001b[0;32mIn[4], line 9\u001b[0m\n\u001b[1;32m      2\u001b[0m dynamodb_session \u001b[39m=\u001b[39m session\u001b[39m.\u001b[39mcreate_client(\u001b[39m'\u001b[39m\u001b[39mdynamodb\u001b[39m\u001b[39m'\u001b[39m, \\\n\u001b[1;32m      3\u001b[0m                     region_name\u001b[39m=\u001b[39m\u001b[39m'\u001b[39m\u001b[39mus-east-2\u001b[39m\u001b[39m'\u001b[39m,\n\u001b[1;32m      4\u001b[0m                     endpoint_url \u001b[39m=\u001b[39m \u001b[39m\"\u001b[39m\u001b[39mhttp://192.168.50.114:8000\u001b[39m\u001b[39m\"\u001b[39m,\n\u001b[1;32m      5\u001b[0m                     aws_access_key_id\u001b[39m=\u001b[39mcreds[\u001b[39m\"\u001b[39m\u001b[39maws-access-key\u001b[39m\u001b[39m\"\u001b[39m],\n\u001b[1;32m      6\u001b[0m                     aws_secret_access_key\u001b[39m=\u001b[39mcreds[\u001b[39m\"\u001b[39m\u001b[39maws-secret-access-key\u001b[39m\u001b[39m\"\u001b[39m]) \u001b[39m# low-level client\u001b[39;00m\n\u001b[1;32m      8\u001b[0m waiter \u001b[39m=\u001b[39m dynamodb_session\u001b[39m.\u001b[39mget_waiter(\u001b[39m'\u001b[39m\u001b[39mtable_exists\u001b[39m\u001b[39m'\u001b[39m)\n\u001b[0;32m----> 9\u001b[0m waiter\u001b[39m.\u001b[39;49mwait(TableName\u001b[39m=\u001b[39;49m\u001b[39m\"\u001b[39;49m\u001b[39mtweets\u001b[39;49m\u001b[39m\"\u001b[39;49m)\n",
      "File \u001b[0;32m~/miniconda3/envs/twitter/lib/python3.9/site-packages/botocore/waiter.py:55\u001b[0m, in \u001b[0;36mcreate_waiter_with_client.<locals>.wait\u001b[0;34m(self, **kwargs)\u001b[0m\n\u001b[1;32m     54\u001b[0m \u001b[39mdef\u001b[39;00m \u001b[39mwait\u001b[39m(\u001b[39mself\u001b[39m, \u001b[39m*\u001b[39m\u001b[39m*\u001b[39mkwargs):\n\u001b[0;32m---> 55\u001b[0m     Waiter\u001b[39m.\u001b[39;49mwait(\u001b[39mself\u001b[39;49m, \u001b[39m*\u001b[39;49m\u001b[39m*\u001b[39;49mkwargs)\n",
      "File \u001b[0;32m~/miniconda3/envs/twitter/lib/python3.9/site-packages/botocore/waiter.py:393\u001b[0m, in \u001b[0;36mWaiter.wait\u001b[0;34m(self, **kwargs)\u001b[0m\n\u001b[1;32m    384\u001b[0m         reason \u001b[39m=\u001b[39m (\n\u001b[1;32m    385\u001b[0m             \u001b[39m'\u001b[39m\u001b[39mMax attempts exceeded. Previously accepted state: \u001b[39m\u001b[39m%s\u001b[39;00m\u001b[39m'\u001b[39m\n\u001b[1;32m    386\u001b[0m             \u001b[39m%\u001b[39m (acceptor\u001b[39m.\u001b[39mexplanation)\n\u001b[1;32m    387\u001b[0m         )\n\u001b[1;32m    388\u001b[0m     \u001b[39mraise\u001b[39;00m WaiterError(\n\u001b[1;32m    389\u001b[0m         name\u001b[39m=\u001b[39m\u001b[39mself\u001b[39m\u001b[39m.\u001b[39mname,\n\u001b[1;32m    390\u001b[0m         reason\u001b[39m=\u001b[39mreason,\n\u001b[1;32m    391\u001b[0m         last_response\u001b[39m=\u001b[39mresponse,\n\u001b[1;32m    392\u001b[0m     )\n\u001b[0;32m--> 393\u001b[0m time\u001b[39m.\u001b[39;49msleep(sleep_amount)\n",
      "\u001b[0;31mKeyboardInterrupt\u001b[0m: "
     ]
    }
   ],
   "source": [
    "session = botocore.session.get_session()\n",
    "dynamodb_session = session.create_client('dynamodb', \\\n",
    "                    region_name='us-east-2',\n",
    "                    endpoint_url = \"http://192.168.50.114:8000\",\n",
    "                    aws_access_key_id=creds[\"aws-access-key\"],\n",
    "                    aws_secret_access_key=creds[\"aws-secret-access-key\"]) # low-level client\n",
    "\n",
    "waiter = dynamodb_session.get_waiter('table_exists')\n",
    "waiter.wait(TableName=\"tweets\")"
   ]
  },
  {
   "cell_type": "code",
   "execution_count": null,
   "metadata": {},
   "outputs": [],
   "source": [
    "print(\"Table status:\", table.table_status)"
   ]
  },
  {
   "attachments": {},
   "cell_type": "markdown",
   "metadata": {},
   "source": [
    "## scan tweets table"
   ]
  },
  {
   "cell_type": "code",
   "execution_count": 5,
   "metadata": {},
   "outputs": [],
   "source": [
    "tweets = dynamodb.Table(\"tweets\")\n",
    "\n",
    "response = tweets.scan()"
   ]
  },
  {
   "cell_type": "code",
   "execution_count": 6,
   "metadata": {},
   "outputs": [
    {
     "data": {
      "text/plain": [
       "{'Items': [],\n",
       " 'Count': 0,\n",
       " 'ScannedCount': 0,\n",
       " 'ResponseMetadata': {'RequestId': '4445c7ae-05cb-4391-a21b-bb0e4ceb6c1a',\n",
       "  'HTTPStatusCode': 200,\n",
       "  'HTTPHeaders': {'date': 'Sat, 04 Feb 2023 01:23:30 GMT',\n",
       "   'content-type': 'application/x-amz-json-1.0',\n",
       "   'x-amz-crc32': '583912891',\n",
       "   'x-amzn-requestid': '4445c7ae-05cb-4391-a21b-bb0e4ceb6c1a',\n",
       "   'content-length': '39',\n",
       "   'server': 'Jetty(9.4.18.v20190429)'},\n",
       "  'RetryAttempts': 0}}"
      ]
     },
     "execution_count": 6,
     "metadata": {},
     "output_type": "execute_result"
    }
   ],
   "source": [
    "response"
   ]
  },
  {
   "cell_type": "code",
   "execution_count": 8,
   "metadata": {},
   "outputs": [
    {
     "name": "stdout",
     "output_type": "stream",
     "text": [
      "docker0: flags=4163<UP,BROADCAST,RUNNING,MULTICAST>  mtu 1500\n",
      "        inet 172.17.0.1  netmask 255.255.0.0  broadcast 172.17.255.255\n",
      "        inet6 fe80::42:6bff:fe60:73b5  prefixlen 64  scopeid 0x20<link>\n",
      "        ether 02:42:6b:60:73:b5  txqueuelen 0  (Ethernet)\n",
      "        RX packets 372175  bytes 21118682 (21.1 MB)\n",
      "        RX errors 0  dropped 0  overruns 0  frame 0\n",
      "        TX packets 732921  bytes 1099912029 (1.0 GB)\n",
      "        TX errors 0  dropped 0 overruns 0  carrier 0  collisions 0\n",
      "\n",
      "eno1: flags=4099<UP,BROADCAST,MULTICAST>  mtu 1500\n",
      "        ether a8:a1:59:20:d8:64  txqueuelen 1000  (Ethernet)\n",
      "        RX packets 0  bytes 0 (0.0 B)\n",
      "        RX errors 0  dropped 0  overruns 0  frame 0\n",
      "        TX packets 0  bytes 0 (0.0 B)\n",
      "        TX errors 0  dropped 0 overruns 0  carrier 0  collisions 0\n",
      "        device interrupt 16  memory 0xdf400000-df420000  \n",
      "\n",
      "lo: flags=73<UP,LOOPBACK,RUNNING>  mtu 65536\n",
      "        inet 127.0.0.1  netmask 255.0.0.0\n",
      "        inet6 ::1  prefixlen 128  scopeid 0x10<host>\n",
      "        loop  txqueuelen 1000  (Local Loopback)\n",
      "        RX packets 1090677  bytes 1255797206 (1.2 GB)\n",
      "        RX errors 0  dropped 0  overruns 0  frame 0\n",
      "        TX packets 1090677  bytes 1255797206 (1.2 GB)\n",
      "        TX errors 0  dropped 0 overruns 0  carrier 0  collisions 0\n",
      "\n",
      "vethe888d7c: flags=4163<UP,BROADCAST,RUNNING,MULTICAST>  mtu 1500\n",
      "        inet6 fe80::6c73:5eff:fe32:6ca5  prefixlen 64  scopeid 0x20<link>\n",
      "        ether 6e:73:5e:32:6c:a5  txqueuelen 0  (Ethernet)\n",
      "        RX packets 14  bytes 1743 (1.7 KB)\n",
      "        RX errors 0  dropped 0  overruns 0  frame 0\n",
      "        TX packets 424  bytes 91907 (91.9 KB)\n",
      "        TX errors 0  dropped 0 overruns 0  carrier 0  collisions 0\n",
      "\n",
      "wlp3s0: flags=4099<UP,BROADCAST,MULTICAST>  mtu 1500\n",
      "        ether 60:dd:8e:38:ae:8c  txqueuelen 1000  (Ethernet)\n",
      "        RX packets 0  bytes 0 (0.0 B)\n",
      "        RX errors 0  dropped 0  overruns 0  frame 0\n",
      "        TX packets 0  bytes 0 (0.0 B)\n",
      "        TX errors 0  dropped 0 overruns 0  carrier 0  collisions 0\n",
      "\n",
      "wlx6c5d3a0feaf8: flags=4099<UP,BROADCAST,MULTICAST>  mtu 1500\n",
      "        ether 6c:5d:3a:0f:ea:f8  txqueuelen 1000  (Ethernet)\n",
      "        RX packets 0  bytes 0 (0.0 B)\n",
      "        RX errors 0  dropped 0  overruns 0  frame 0\n",
      "        TX packets 0  bytes 0 (0.0 B)\n",
      "        TX errors 0  dropped 0 overruns 0  carrier 0  collisions 0\n",
      "\n",
      "wlx984827c9c1b7: flags=4163<UP,BROADCAST,RUNNING,MULTICAST>  mtu 1500\n",
      "        inet 192.168.50.114  netmask 255.255.255.0  broadcast 192.168.50.255\n",
      "        inet6 fe80::6162:562d:4e76:6ce7  prefixlen 64  scopeid 0x20<link>\n",
      "        ether 98:48:27:c9:c1:b7  txqueuelen 1000  (Ethernet)\n",
      "        RX packets 348940  bytes 7331887244 (7.3 GB)\n",
      "        RX errors 0  dropped 451825  overruns 0  frame 0\n",
      "        TX packets 186612  bytes 2038441865 (2.0 GB)\n",
      "        TX errors 0  dropped 31 overruns 0  carrier 0  collisions 0\n",
      "\n"
     ]
    }
   ],
   "source": [
    "! ifconfig"
   ]
  },
  {
   "cell_type": "code",
   "execution_count": 7,
   "metadata": {
    "vscode": {
     "languageId": "shellscript"
    }
   },
   "outputs": [
    {
     "name": "stdout",
     "output_type": "stream",
     "text": [
      "\n",
      "Could not connect to the endpoint URL: \"http://192.168.50.114:8001/\"\n"
     ]
    }
   ],
   "source": [
    "! aws dynamodb list-tables --endpoint-url http://192.168.50.114:8000"
   ]
  },
  {
   "cell_type": "code",
   "execution_count": 6,
   "metadata": {
    "vscode": {
     "languageId": "shellscript"
    }
   },
   "outputs": [
    {
     "name": "stdout",
     "output_type": "stream",
     "text": [
      "\n",
      "Could not connect to the endpoint URL: \"https://xanaxprincess.asuscomm.com:8001/\"\n"
     ]
    }
   ],
   "source": [
    "! aws dynamodb describe-table --table-name \"tweets\" --endpoint-url http://192.168.50.114:8000"
   ]
  },
  {
   "cell_type": "code",
   "execution_count": null,
   "metadata": {
    "vscode": {
     "languageId": "shellscript"
    }
   },
   "outputs": [],
   "source": []
  }
 ],
 "metadata": {
  "kernelspec": {
   "display_name": "Python 3 (ipykernel)",
   "language": "python",
   "name": "python3"
  },
  "language_info": {
   "codemirror_mode": {
    "name": "ipython",
    "version": 3
   },
   "file_extension": ".py",
   "mimetype": "text/x-python",
   "name": "python",
   "nbconvert_exporter": "python",
   "pygments_lexer": "ipython3",
   "version": "3.9.12"
  },
  "orig_nbformat": 4,
  "vscode": {
   "interpreter": {
    "hash": "23fa0c2dec9d3713b2ec72feef367e87f9ae0122dea8f00c1b4bed9356add9a2"
   }
  }
 },
 "nbformat": 4,
 "nbformat_minor": 2
}

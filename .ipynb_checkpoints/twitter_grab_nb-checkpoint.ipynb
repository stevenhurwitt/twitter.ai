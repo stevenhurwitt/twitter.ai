{
 "cells": [
  {
   "cell_type": "markdown",
   "metadata": {},
   "source": [
    "# twitter grab"
   ]
  },
  {
   "cell_type": "code",
   "execution_count": 2,
   "metadata": {},
   "outputs": [
    {
     "name": "stdout",
     "output_type": "stream",
     "text": [
      "imported modules successfully.\n"
     ]
    }
   ],
   "source": [
    "import os\n",
    "import tweepy\n",
    "import logging\n",
    "import pprint\n",
    "import json\n",
    "import keras\n",
    "import flask\n",
    "import datetime\n",
    "import pandas as pd\n",
    "import numpy as np\n",
    "import matplotlib as plt\n",
    "import tensorflow as tf\n",
    "print('imported modules successfully.')"
   ]
  },
  {
   "cell_type": "markdown",
   "metadata": {},
   "source": [
    "### set OAuth creds, init logger and pprinter"
   ]
  },
  {
   "cell_type": "code",
   "execution_count": 3,
   "metadata": {},
   "outputs": [
    {
     "name": "stdout",
     "output_type": "stream",
     "text": [
      "initialized modules.\n"
     ]
    }
   ],
   "source": [
    "pp = pprint.PrettyPrinter(indent = 1)\n",
    "logging.basicConfig(filename = 'twitter.log', level = logging.DEBUG)\n",
    "auth = tweepy.OAuthHandler('vDmSiSjkot8pbnf4Z7eUmNCaW', 'dBcYnqMwWaTDx76weHrybngCsfszZQ4TinxsCjZrgo4hR2nlWH')\n",
    "auth.set_access_token('258542490-FD117iVPwblz8uGppXC1M8blIOzZLPEMTw7ATIv8', 'hCbeVJA9Rlif9rYGHlFMUEbJl5nzKlZ5GjVbxQ5QEQdGX')\n",
    "\n",
    "api = tweepy.API(auth)\n",
    "logging.debug('authorized API w/ client id and secret.')\n",
    "print('initialized modules.')"
   ]
  },
  {
   "cell_type": "markdown",
   "metadata": {},
   "source": [
    "### users"
   ]
  },
  {
   "cell_type": "code",
   "execution_count": 6,
   "metadata": {},
   "outputs": [],
   "source": [
    "users = ['xanax_princess_', 'slpyboy', 'AristocratAlex', 'timpc9213', 'cd3lisi', 'ChriMoulto', 'uhnonimouse', 'Bean_glitch']"
   ]
  },
  {
   "cell_type": "markdown",
   "metadata": {},
   "source": [
    "### get_tweets_per_user()\n",
    "Scrapes pages of tweets per given user."
   ]
  },
  {
   "cell_type": "code",
   "execution_count": 7,
   "metadata": {},
   "outputs": [],
   "source": [
    "def get_tweets_per_user(user, pages):\n",
    "    \n",
    "    i = 0\n",
    "    tweet_info = []\n",
    "    for p in range(0,pages):\n",
    "        try:\n",
    "            tweets = api.user_timeline(screen_name = user, page = p)\n",
    "            for t in tweets:\n",
    "                tweet_dict = dict([('text', t.text), ('user', user), ('date', t.created_at), ('fav_count', t.favorite_count), ('retweet_count', t.retweet_count), ('retweet', t.retweeted)])\n",
    "                tweet_info.append((i, tweet_dict))\n",
    "                i += 1\n",
    "        except:\n",
    "            print('error with page {}'.format(p))\n",
    "    tweet_info = dict(tweet_info)\n",
    "    tweet_info_json = json.dumps(tweet_info, indent = 1, sort_keys = False, default = str)\n",
    "    json_fname = '%s_tweet_dump.json' % user\n",
    "\n",
    "    with open(json_fname, 'w') as f:\n",
    "        json.dump(tweet_info_json, f)\n",
    "    \n",
    "    print('wrote %s tweets as %s' % (user, json_fname))\n",
    "    \n",
    "    tweets_df = pd.read_json(tweet_info_json, orient = 'index')\n",
    "    tweets_df.sort_index(axis = 0, inplace = True)\n",
    "    csv_fname = '%s_tweet_dump.csv' % user\n",
    "    tweets_df.to_csv(csv_fname, index = False)\n",
    "    \n",
    "    log_out = 'saved %d tweets for user %s.' % (i, user)\n",
    "    print(log_out)\n",
    "    logging.info(log_out)\n",
    "    \n",
    "    return(tweets_df)"
   ]
  },
  {
   "cell_type": "markdown",
   "metadata": {},
   "source": [
    "### create master df of user tweets"
   ]
  },
  {
   "cell_type": "code",
   "execution_count": 8,
   "metadata": {},
   "outputs": [
    {
     "name": "stdout",
     "output_type": "stream",
     "text": [
      "wrote xanax_princess_ tweets as xanax_princess__tweet_dump.json\n",
      "saved 1988 tweets for user xanax_princess_.\n",
      "wrote slpyboy tweets as slpyboy_tweet_dump.json\n",
      "saved 1973 tweets for user slpyboy.\n",
      "wrote AristocratAlex tweets as AristocratAlex_tweet_dump.json\n",
      "saved 1987 tweets for user AristocratAlex.\n",
      "wrote timpc9213 tweets as timpc9213_tweet_dump.json\n",
      "saved 1998 tweets for user timpc9213.\n",
      "wrote cd3lisi tweets as cd3lisi_tweet_dump.json\n",
      "saved 1998 tweets for user cd3lisi.\n",
      "wrote master .csv file.\n"
     ]
    }
   ],
   "source": [
    "master = []\n",
    "\n",
    "for u in users:\n",
    "    tweets_df = get_tweets_per_user(u, 100)\n",
    "    master.append(tweets_df)\n",
    "\n",
    "master_df = pd.concat(master)\n",
    "master_fname = 'master_tweet_dump.csv'\n",
    "master_df.to_csv(master_fname, index = False)\n",
    "\n",
    "logging.info('wrote master .csv file.')\n",
    "print('wrote master .csv file.')"
   ]
  },
  {
   "cell_type": "code",
   "execution_count": 25,
   "metadata": {},
   "outputs": [
    {
     "data": {
      "text/html": [
       "<div>\n",
       "<style scoped>\n",
       "    .dataframe tbody tr th:only-of-type {\n",
       "        vertical-align: middle;\n",
       "    }\n",
       "\n",
       "    .dataframe tbody tr th {\n",
       "        vertical-align: top;\n",
       "    }\n",
       "\n",
       "    .dataframe thead th {\n",
       "        text-align: right;\n",
       "    }\n",
       "</style>\n",
       "<table border=\"1\" class=\"dataframe\">\n",
       "  <thead>\n",
       "    <tr style=\"text-align: right;\">\n",
       "      <th></th>\n",
       "      <th>text</th>\n",
       "      <th>user</th>\n",
       "      <th>date</th>\n",
       "      <th>fav_count</th>\n",
       "      <th>retweet_count</th>\n",
       "      <th>retweet</th>\n",
       "    </tr>\n",
       "  </thead>\n",
       "  <tbody>\n",
       "    <tr>\n",
       "      <th>0</th>\n",
       "      <td>tb to when i was younger and my dad tried to p...</td>\n",
       "      <td>xanax_princess_</td>\n",
       "      <td>2020-05-24 23:48:11</td>\n",
       "      <td>5</td>\n",
       "      <td>0</td>\n",
       "      <td>False</td>\n",
       "    </tr>\n",
       "    <tr>\n",
       "      <th>1</th>\n",
       "      <td>never thought I’d wear jeans in 90+ weather, b...</td>\n",
       "      <td>xanax_princess_</td>\n",
       "      <td>2020-05-19 23:01:57</td>\n",
       "      <td>3</td>\n",
       "      <td>0</td>\n",
       "      <td>False</td>\n",
       "    </tr>\n",
       "    <tr>\n",
       "      <th>2</th>\n",
       "      <td>new mixtape “i smoked 100 blunts with god” com...</td>\n",
       "      <td>xanax_princess_</td>\n",
       "      <td>2020-05-09 21:50:16</td>\n",
       "      <td>2</td>\n",
       "      <td>0</td>\n",
       "      <td>False</td>\n",
       "    </tr>\n",
       "    <tr>\n",
       "      <th>3</th>\n",
       "      <td>@annabanana4128 Ewwww gross</td>\n",
       "      <td>xanax_princess_</td>\n",
       "      <td>2020-05-08 00:15:20</td>\n",
       "      <td>1</td>\n",
       "      <td>0</td>\n",
       "      <td>False</td>\n",
       "    </tr>\n",
       "    <tr>\n",
       "      <th>4</th>\n",
       "      <td>@slpyboy @audiotreemusic i love diy</td>\n",
       "      <td>xanax_princess_</td>\n",
       "      <td>2020-05-07 19:13:14</td>\n",
       "      <td>1</td>\n",
       "      <td>0</td>\n",
       "      <td>False</td>\n",
       "    </tr>\n",
       "    <tr>\n",
       "      <th>...</th>\n",
       "      <td>...</td>\n",
       "      <td>...</td>\n",
       "      <td>...</td>\n",
       "      <td>...</td>\n",
       "      <td>...</td>\n",
       "      <td>...</td>\n",
       "    </tr>\n",
       "    <tr>\n",
       "      <th>9939</th>\n",
       "      <td>RT @michaelpRTD: LIVE: Kirk Cousins’ accountan...</td>\n",
       "      <td>cd3lisi</td>\n",
       "      <td>2016-11-21 03:46:23</td>\n",
       "      <td>0</td>\n",
       "      <td>143</td>\n",
       "      <td>False</td>\n",
       "    </tr>\n",
       "    <tr>\n",
       "      <th>9940</th>\n",
       "      <td>Hey Kirk, there's some pretty bad wind and Tre...</td>\n",
       "      <td>cd3lisi</td>\n",
       "      <td>2016-11-21 03:44:17</td>\n",
       "      <td>1</td>\n",
       "      <td>0</td>\n",
       "      <td>False</td>\n",
       "    </tr>\n",
       "    <tr>\n",
       "      <th>9941</th>\n",
       "      <td>Captain Kirk! #PayThatMan https://t.co/nRoJZLn3uE</td>\n",
       "      <td>cd3lisi</td>\n",
       "      <td>2016-11-20 15:06:42</td>\n",
       "      <td>0</td>\n",
       "      <td>1</td>\n",
       "      <td>False</td>\n",
       "    </tr>\n",
       "    <tr>\n",
       "      <th>9942</th>\n",
       "      <td>John Wall had so many assists tonight you woul...</td>\n",
       "      <td>cd3lisi</td>\n",
       "      <td>2016-11-20 05:03:59</td>\n",
       "      <td>3</td>\n",
       "      <td>2</td>\n",
       "      <td>False</td>\n",
       "    </tr>\n",
       "    <tr>\n",
       "      <th>9943</th>\n",
       "      <td>John Wall 👀👀👀 https://t.co/pN0MwgH4Cz</td>\n",
       "      <td>cd3lisi</td>\n",
       "      <td>2016-11-20 00:25:43</td>\n",
       "      <td>1</td>\n",
       "      <td>0</td>\n",
       "      <td>False</td>\n",
       "    </tr>\n",
       "  </tbody>\n",
       "</table>\n",
       "<p>9944 rows × 6 columns</p>\n",
       "</div>"
      ],
      "text/plain": [
       "                                                   text             user  \\\n",
       "0     tb to when i was younger and my dad tried to p...  xanax_princess_   \n",
       "1     never thought I’d wear jeans in 90+ weather, b...  xanax_princess_   \n",
       "2     new mixtape “i smoked 100 blunts with god” com...  xanax_princess_   \n",
       "3                           @annabanana4128 Ewwww gross  xanax_princess_   \n",
       "4                   @slpyboy @audiotreemusic i love diy  xanax_princess_   \n",
       "...                                                 ...              ...   \n",
       "9939  RT @michaelpRTD: LIVE: Kirk Cousins’ accountan...          cd3lisi   \n",
       "9940  Hey Kirk, there's some pretty bad wind and Tre...          cd3lisi   \n",
       "9941  Captain Kirk! #PayThatMan https://t.co/nRoJZLn3uE          cd3lisi   \n",
       "9942  John Wall had so many assists tonight you woul...          cd3lisi   \n",
       "9943              John Wall 👀👀👀 https://t.co/pN0MwgH4Cz          cd3lisi   \n",
       "\n",
       "                     date  fav_count  retweet_count  retweet  \n",
       "0     2020-05-24 23:48:11          5              0    False  \n",
       "1     2020-05-19 23:01:57          3              0    False  \n",
       "2     2020-05-09 21:50:16          2              0    False  \n",
       "3     2020-05-08 00:15:20          1              0    False  \n",
       "4     2020-05-07 19:13:14          1              0    False  \n",
       "...                   ...        ...            ...      ...  \n",
       "9939  2016-11-21 03:46:23          0            143    False  \n",
       "9940  2016-11-21 03:44:17          1              0    False  \n",
       "9941  2016-11-20 15:06:42          0              1    False  \n",
       "9942  2016-11-20 05:03:59          3              2    False  \n",
       "9943  2016-11-20 00:25:43          1              0    False  \n",
       "\n",
       "[9944 rows x 6 columns]"
      ]
     },
     "execution_count": 25,
     "metadata": {},
     "output_type": "execute_result"
    }
   ],
   "source": [
    "#master_df = pd.read_csv('master_tweet_dump.csv')\n",
    "master_df"
   ]
  },
  {
   "cell_type": "markdown",
   "metadata": {},
   "source": [
    "### cleanse data file"
   ]
  },
  {
   "cell_type": "code",
   "execution_count": 38,
   "metadata": {},
   "outputs": [
    {
     "data": {
      "text/plain": [
       "array(['AristocratAlex', 'cd3lisi', 'slpyboy', 'timpc9213',\n",
       "       'xanax_princess_'], dtype=object)"
      ]
     },
     "execution_count": 38,
     "metadata": {},
     "output_type": "execute_result"
    }
   ],
   "source": [
    "np.unique(master_df.user)"
   ]
  },
  {
   "cell_type": "code",
   "execution_count": 34,
   "metadata": {},
   "outputs": [
    {
     "data": {
      "text/plain": [
       "9600"
      ]
     },
     "execution_count": 34,
     "metadata": {},
     "output_type": "execute_result"
    }
   ],
   "source": [
    "#make sure data got parsed correctly\n",
    "sum([u in users for u in master_df.user])"
   ]
  },
  {
   "cell_type": "code",
   "execution_count": 27,
   "metadata": {},
   "outputs": [
    {
     "data": {
      "text/plain": [
       "9600"
      ]
     },
     "execution_count": 27,
     "metadata": {},
     "output_type": "execute_result"
    }
   ],
   "source": [
    "#check if retweet or not, subset based on non-retweets\n",
    "not_retweet = [r == False for r in master_df.retweet]\n",
    "sum(not_retweet)"
   ]
  },
  {
   "cell_type": "code",
   "execution_count": 28,
   "metadata": {},
   "outputs": [
    {
     "data": {
      "text/html": [
       "<div>\n",
       "<style scoped>\n",
       "    .dataframe tbody tr th:only-of-type {\n",
       "        vertical-align: middle;\n",
       "    }\n",
       "\n",
       "    .dataframe tbody tr th {\n",
       "        vertical-align: top;\n",
       "    }\n",
       "\n",
       "    .dataframe thead th {\n",
       "        text-align: right;\n",
       "    }\n",
       "</style>\n",
       "<table border=\"1\" class=\"dataframe\">\n",
       "  <thead>\n",
       "    <tr style=\"text-align: right;\">\n",
       "      <th></th>\n",
       "      <th>text</th>\n",
       "      <th>user</th>\n",
       "      <th>date</th>\n",
       "      <th>fav_count</th>\n",
       "      <th>retweet_count</th>\n",
       "      <th>retweet</th>\n",
       "    </tr>\n",
       "  </thead>\n",
       "  <tbody>\n",
       "    <tr>\n",
       "      <th>0</th>\n",
       "      <td>tb to when i was younger and my dad tried to p...</td>\n",
       "      <td>xanax_princess_</td>\n",
       "      <td>2020-05-24 23:48:11</td>\n",
       "      <td>5</td>\n",
       "      <td>0</td>\n",
       "      <td>False</td>\n",
       "    </tr>\n",
       "    <tr>\n",
       "      <th>1</th>\n",
       "      <td>never thought I’d wear jeans in 90+ weather, b...</td>\n",
       "      <td>xanax_princess_</td>\n",
       "      <td>2020-05-19 23:01:57</td>\n",
       "      <td>3</td>\n",
       "      <td>0</td>\n",
       "      <td>False</td>\n",
       "    </tr>\n",
       "    <tr>\n",
       "      <th>2</th>\n",
       "      <td>new mixtape “i smoked 100 blunts with god” com...</td>\n",
       "      <td>xanax_princess_</td>\n",
       "      <td>2020-05-09 21:50:16</td>\n",
       "      <td>2</td>\n",
       "      <td>0</td>\n",
       "      <td>False</td>\n",
       "    </tr>\n",
       "    <tr>\n",
       "      <th>3</th>\n",
       "      <td>@annabanana4128 Ewwww gross</td>\n",
       "      <td>xanax_princess_</td>\n",
       "      <td>2020-05-08 00:15:20</td>\n",
       "      <td>1</td>\n",
       "      <td>0</td>\n",
       "      <td>False</td>\n",
       "    </tr>\n",
       "    <tr>\n",
       "      <th>4</th>\n",
       "      <td>@slpyboy @audiotreemusic i love diy</td>\n",
       "      <td>xanax_princess_</td>\n",
       "      <td>2020-05-07 19:13:14</td>\n",
       "      <td>1</td>\n",
       "      <td>0</td>\n",
       "      <td>False</td>\n",
       "    </tr>\n",
       "    <tr>\n",
       "      <th>...</th>\n",
       "      <td>...</td>\n",
       "      <td>...</td>\n",
       "      <td>...</td>\n",
       "      <td>...</td>\n",
       "      <td>...</td>\n",
       "      <td>...</td>\n",
       "    </tr>\n",
       "    <tr>\n",
       "      <th>9595</th>\n",
       "      <td>RT @michaelpRTD: LIVE: Kirk Cousins’ accountan...</td>\n",
       "      <td>cd3lisi</td>\n",
       "      <td>2016-11-21 03:46:23</td>\n",
       "      <td>0</td>\n",
       "      <td>143</td>\n",
       "      <td>False</td>\n",
       "    </tr>\n",
       "    <tr>\n",
       "      <th>9596</th>\n",
       "      <td>Hey Kirk, there's some pretty bad wind and Tre...</td>\n",
       "      <td>cd3lisi</td>\n",
       "      <td>2016-11-21 03:44:17</td>\n",
       "      <td>1</td>\n",
       "      <td>0</td>\n",
       "      <td>False</td>\n",
       "    </tr>\n",
       "    <tr>\n",
       "      <th>9597</th>\n",
       "      <td>Captain Kirk! #PayThatMan https://t.co/nRoJZLn3uE</td>\n",
       "      <td>cd3lisi</td>\n",
       "      <td>2016-11-20 15:06:42</td>\n",
       "      <td>0</td>\n",
       "      <td>1</td>\n",
       "      <td>False</td>\n",
       "    </tr>\n",
       "    <tr>\n",
       "      <th>9598</th>\n",
       "      <td>John Wall had so many assists tonight you woul...</td>\n",
       "      <td>cd3lisi</td>\n",
       "      <td>2016-11-20 05:03:59</td>\n",
       "      <td>3</td>\n",
       "      <td>2</td>\n",
       "      <td>False</td>\n",
       "    </tr>\n",
       "    <tr>\n",
       "      <th>9599</th>\n",
       "      <td>John Wall 👀👀👀 https://t.co/pN0MwgH4Cz</td>\n",
       "      <td>cd3lisi</td>\n",
       "      <td>2016-11-20 00:25:43</td>\n",
       "      <td>1</td>\n",
       "      <td>0</td>\n",
       "      <td>False</td>\n",
       "    </tr>\n",
       "  </tbody>\n",
       "</table>\n",
       "<p>9600 rows × 6 columns</p>\n",
       "</div>"
      ],
      "text/plain": [
       "                                                   text             user  \\\n",
       "0     tb to when i was younger and my dad tried to p...  xanax_princess_   \n",
       "1     never thought I’d wear jeans in 90+ weather, b...  xanax_princess_   \n",
       "2     new mixtape “i smoked 100 blunts with god” com...  xanax_princess_   \n",
       "3                           @annabanana4128 Ewwww gross  xanax_princess_   \n",
       "4                   @slpyboy @audiotreemusic i love diy  xanax_princess_   \n",
       "...                                                 ...              ...   \n",
       "9595  RT @michaelpRTD: LIVE: Kirk Cousins’ accountan...          cd3lisi   \n",
       "9596  Hey Kirk, there's some pretty bad wind and Tre...          cd3lisi   \n",
       "9597  Captain Kirk! #PayThatMan https://t.co/nRoJZLn3uE          cd3lisi   \n",
       "9598  John Wall had so many assists tonight you woul...          cd3lisi   \n",
       "9599              John Wall 👀👀👀 https://t.co/pN0MwgH4Cz          cd3lisi   \n",
       "\n",
       "                     date  fav_count  retweet_count  retweet  \n",
       "0     2020-05-24 23:48:11          5              0    False  \n",
       "1     2020-05-19 23:01:57          3              0    False  \n",
       "2     2020-05-09 21:50:16          2              0    False  \n",
       "3     2020-05-08 00:15:20          1              0    False  \n",
       "4     2020-05-07 19:13:14          1              0    False  \n",
       "...                   ...        ...            ...      ...  \n",
       "9595  2016-11-21 03:46:23          0            143    False  \n",
       "9596  2016-11-21 03:44:17          1              0    False  \n",
       "9597  2016-11-20 15:06:42          0              1    False  \n",
       "9598  2016-11-20 05:03:59          3              2    False  \n",
       "9599  2016-11-20 00:25:43          1              0    False  \n",
       "\n",
       "[9600 rows x 6 columns]"
      ]
     },
     "execution_count": 28,
     "metadata": {},
     "output_type": "execute_result"
    }
   ],
   "source": [
    "master_df = master_df[not_retweet]\n",
    "master_df.reset_index(drop = True)"
   ]
  },
  {
   "cell_type": "code",
   "execution_count": 29,
   "metadata": {},
   "outputs": [
    {
     "name": "stdout",
     "output_type": "stream",
     "text": [
      "wrote cleaned master file to .csv.\n"
     ]
    }
   ],
   "source": [
    "master_df.to_csv('master_data_clean.csv', index = False)\n",
    "print('wrote cleaned master file to .csv.')"
   ]
  }
 ],
 "metadata": {
  "kernelspec": {
   "display_name": "Python 3",
   "language": "python",
   "name": "python3"
  },
  "language_info": {
   "codemirror_mode": {
    "name": "ipython",
    "version": 3
   },
   "file_extension": ".py",
   "mimetype": "text/x-python",
   "name": "python",
   "nbconvert_exporter": "python",
   "pygments_lexer": "ipython3",
   "version": "3.7.7"
  }
 },
 "nbformat": 4,
 "nbformat_minor": 4
}

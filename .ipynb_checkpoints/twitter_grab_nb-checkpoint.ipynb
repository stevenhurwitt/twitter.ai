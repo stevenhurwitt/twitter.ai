{
 "cells": [
  {
   "cell_type": "markdown",
   "metadata": {},
   "source": [
    "# twitter grab"
   ]
  },
  {
   "cell_type": "code",
   "execution_count": 1,
   "metadata": {},
   "outputs": [
    {
     "name": "stdout",
     "output_type": "stream",
     "text": [
      "imported modules successfully.\n"
     ]
    }
   ],
   "source": [
    "import os\n",
    "import tweepy\n",
    "import logging\n",
    "import pprint\n",
    "import json\n",
    "import datetime\n",
    "import pandas as pd\n",
    "import numpy as np\n",
    "print('imported modules successfully.')"
   ]
  },
  {
   "cell_type": "markdown",
   "metadata": {},
   "source": [
    "### set OAuth creds, init logger and pprinter"
   ]
  },
  {
   "cell_type": "code",
   "execution_count": 2,
   "metadata": {},
   "outputs": [
    {
     "name": "stdout",
     "output_type": "stream",
     "text": [
      "initialized modules.\n"
     ]
    }
   ],
   "source": [
    "base = os.getcwd()\n",
    "data_dir = os.path.join(base, 'data')\n",
    "pp = pprint.PrettyPrinter(indent = 1)\n",
    "logging.basicConfig(filename = 'tweet_grab.log', level = logging.DEBUG)\n",
    "\n",
    "with open('/media/steven/big_boi/creds_tweepy.json', 'r') as f:\n",
    "    tweepy_creds = json.load(f)\n",
    "f.close()\n",
    "    \n",
    "auth = tweepy.OAuthHandler(tweepy_creds['consumer_key'], tweepy_creds['consumer_secret'])\n",
    "auth.set_access_token(tweepy_creds['access_key'], tweepy_creds['access_secret'])\n",
    "\n",
    "api = tweepy.API(auth)\n",
    "logging.debug('authorized API w/ client id and secret.')\n",
    "print('initialized modules.')"
   ]
  },
  {
   "cell_type": "markdown",
   "metadata": {},
   "source": [
    "### users"
   ]
  },
  {
   "cell_type": "code",
   "execution_count": 3,
   "metadata": {},
   "outputs": [],
   "source": [
    "users = ['xanax_princess_', 'slpyboy', 'AristocratAlex', 'timpc9213', 'cd3lisi', 'ChriMoulto', 'uhnonimouse', 'Bean_glitch']"
   ]
  },
  {
   "cell_type": "markdown",
   "metadata": {},
   "source": [
    "### get_tweets_per_user()\n",
    "Scrapes pages of tweets per given user."
   ]
  },
  {
   "cell_type": "code",
   "execution_count": 4,
   "metadata": {},
   "outputs": [],
   "source": [
    "def get_tweets_per_user(user, pages):\n",
    "    \n",
    "    i = 0\n",
    "    tweet_info = []\n",
    "    for p in range(0,pages):\n",
    "        try:\n",
    "            tweets = api.user_timeline(screen_name = user, page = p)\n",
    "            for t in tweets:\n",
    "                try:\n",
    "                    tweet_dict = dict([('text', t.text), ('user', user), ('date', t.created_at), ('fav_count', t.favorite_count), ('retweet_count', t.retweet_count), ('retweet', t.retweeted)])\n",
    "                    tweet_info.append((i, tweet_dict))\n",
    "                    i += 1\n",
    "                except:\n",
    "                    print('error with tweet {}'.format(i))\n",
    "        except:\n",
    "            output = 'error with page {}'.format(p)\n",
    "            logging.error(output)\n",
    "            \n",
    "    tweet_info = dict(tweet_info)\n",
    "    tweet_info_json = json.dumps(tweet_info, indent = 1, sort_keys = False, default = str)\n",
    "    json_fname = '%s_tweet_dump.json' % user\n",
    "\n",
    "    with open(json_fname, 'w') as f:\n",
    "        json.dump(tweet_info_json, f)\n",
    "    \n",
    "    print('wrote %s tweets as %s' % (user, json_fname))\n",
    "    \n",
    "    tweets_df = pd.read_json(tweet_info_json, orient = 'index')\n",
    "    tweets_df.sort_index(axis = 0, inplace = True)\n",
    "    csv_fname = '%s_tweet_dump.csv' % user\n",
    "    tweets_df.to_csv(csv_fname, index = False)\n",
    "    \n",
    "    log_out = 'saved %d tweets for user %s.' % (i, user)\n",
    "    print(log_out)\n",
    "    logging.info(log_out)\n",
    "    \n",
    "    return(tweets_df)"
   ]
  },
  {
   "cell_type": "markdown",
   "metadata": {},
   "source": [
    "### main function"
   ]
  },
  {
   "cell_type": "code",
   "execution_count": 5,
   "metadata": {},
   "outputs": [],
   "source": [
    "def main():\n",
    "    master = []\n",
    "\n",
    "    for u in users:\n",
    "        os.chdir(data_dir)\n",
    "        tweets_df = get_tweets_per_user(u, 100)\n",
    "        master.append(tweets_df)\n",
    "        os.chdir(base)\n",
    "\n",
    "    os.chdir(data_dir)\n",
    "    master_df = pd.concat(master)\n",
    "    master_fname = 'master_tweet_dump.csv'\n",
    "    master_df.to_csv(master_fname, index = False)\n",
    "    logging.info('wrote master .csv file.')\n",
    "    print('wrote master .csv file.')\n",
    "\n",
    "    #cleanse master data file (exclude retweets)\n",
    "    not_retweet = [r == False for r in master_df.retweet]\n",
    "    master_df = master_df[not_retweet]\n",
    "    master_df.reset_index(drop = True)\n",
    "    master_df.to_csv('master_data_clean.csv', index = False)\n",
    "    print('wrote cleaned master file to .csv.')\n",
    "    os.chdir(base)"
   ]
  },
  {
   "cell_type": "code",
   "execution_count": null,
   "metadata": {},
   "outputs": [
    {
     "name": "stdout",
     "output_type": "stream",
     "text": [
      "wrote xanax_princess_ tweets as xanax_princess__tweet_dump.json\n",
      "saved 1987 tweets for user xanax_princess_.\n",
      "wrote slpyboy tweets as slpyboy_tweet_dump.json\n",
      "saved 1972 tweets for user slpyboy.\n",
      "wrote AristocratAlex tweets as AristocratAlex_tweet_dump.json\n",
      "saved 1987 tweets for user AristocratAlex.\n",
      "wrote timpc9213 tweets as timpc9213_tweet_dump.json\n",
      "saved 1998 tweets for user timpc9213.\n",
      "wrote cd3lisi tweets as cd3lisi_tweet_dump.json\n",
      "saved 1998 tweets for user cd3lisi.\n"
     ]
    }
   ],
   "source": [
    "main()"
   ]
  },
  {
   "cell_type": "code",
   "execution_count": null,
   "metadata": {},
   "outputs": [],
   "source": []
  }
 ],
 "metadata": {
  "kernelspec": {
   "display_name": "Python 3",
   "language": "python",
   "name": "python3"
  },
  "language_info": {
   "codemirror_mode": {
    "name": "ipython",
    "version": 3
   },
   "file_extension": ".py",
   "mimetype": "text/x-python",
   "name": "python",
   "nbconvert_exporter": "python",
   "pygments_lexer": "ipython3",
   "version": "3.7.7"
  }
 },
 "nbformat": 4,
 "nbformat_minor": 4
}
